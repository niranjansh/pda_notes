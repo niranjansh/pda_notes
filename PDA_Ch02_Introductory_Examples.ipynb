{
 "cells": [
  {
   "cell_type": "markdown",
   "metadata": {},
   "source": [
    "# PDA Chapter 2: Introductory Examples"
   ]
  },
  {
   "cell_type": "markdown",
   "metadata": {},
   "source": [
    "This chapter covers a set of introductory examples using 3 different datasets"
   ]
  },
  {
   "cell_type": "markdown",
   "metadata": {},
   "source": [
    "## usa.gov data from bit.ly"
   ]
  },
  {
   "cell_type": "code",
   "execution_count": 2,
   "metadata": {
    "collapsed": false
   },
   "outputs": [
    {
     "data": {
      "text/plain": [
       "'{ \"a\": \"Mozilla\\\\/5.0 (Windows NT 6.1; WOW64) AppleWebKit\\\\/535.11 (KHTML, like Gecko) Chrome\\\\/17.0.963.78 Safari\\\\/535.11\", \"c\": \"US\", \"nk\": 1, \"tz\": \"America\\\\/New_York\", \"gr\": \"MA\", \"g\": \"A6qOVH\", \"h\": \"wfLQtf\", \"l\": \"orofrog\", \"al\": \"en-US,en;q=0.8\", \"hh\": \"1.usa.gov\", \"r\": \"http:\\\\/\\\\/www.facebook.com\\\\/l\\\\/7AQEFzjSi\\\\/1.usa.gov\\\\/wfLQtf\", \"u\": \"http:\\\\/\\\\/www.ncbi.nlm.nih.gov\\\\/pubmed\\\\/22415991\", \"t\": 1331923247, \"hc\": 1331822918, \"cy\": \"Danvers\", \"ll\": [ 42.576698, -70.954903 ] }\\n'"
      ]
     },
     "execution_count": 2,
     "metadata": {},
     "output_type": "execute_result"
    }
   ],
   "source": [
    "# The data is in a json file\n",
    "path = \"data/usagov_bitly_data2012-03-16-1331923249.txt\"\n",
    "open(path).readline()"
   ]
  },
  {
   "cell_type": "code",
   "execution_count": 3,
   "metadata": {
    "collapsed": false
   },
   "outputs": [
    {
     "data": {
      "text/plain": [
       "{u'a': u'Mozilla/5.0 (Windows NT 6.1; WOW64) AppleWebKit/535.11 (KHTML, like Gecko) Chrome/17.0.963.78 Safari/535.11',\n",
       " u'al': u'en-US,en;q=0.8',\n",
       " u'c': u'US',\n",
       " u'cy': u'Danvers',\n",
       " u'g': u'A6qOVH',\n",
       " u'gr': u'MA',\n",
       " u'h': u'wfLQtf',\n",
       " u'hc': 1331822918,\n",
       " u'hh': u'1.usa.gov',\n",
       " u'l': u'orofrog',\n",
       " u'll': [42.576698, -70.954903],\n",
       " u'nk': 1,\n",
       " u'r': u'http://www.facebook.com/l/7AQEFzjSi/1.usa.gov/wfLQtf',\n",
       " u't': 1331923247,\n",
       " u'tz': u'America/New_York',\n",
       " u'u': u'http://www.ncbi.nlm.nih.gov/pubmed/22415991'}"
      ]
     },
     "execution_count": 3,
     "metadata": {},
     "output_type": "execute_result"
    }
   ],
   "source": [
    "# We use a json reader\n",
    "import json\n",
    "records = [json.loads(line) for line in open(path)]  # list comprehension\n",
    "records[0]"
   ]
  },
  {
   "cell_type": "code",
   "execution_count": 4,
   "metadata": {
    "collapsed": false
   },
   "outputs": [
    {
     "data": {
      "text/plain": [
       "u'America/New_York'"
      ]
     },
     "execution_count": 4,
     "metadata": {},
     "output_type": "execute_result"
    }
   ],
   "source": [
    "records[0]['tz']  # Time zone for record 0"
   ]
  },
  {
   "cell_type": "code",
   "execution_count": 5,
   "metadata": {
    "collapsed": false
   },
   "outputs": [
    {
     "ename": "KeyError",
     "evalue": "'tz'",
     "output_type": "error",
     "traceback": [
      "\u001b[0;31m---------------------------------------------------------------------------\u001b[0m",
      "\u001b[0;31mKeyError\u001b[0m                                  Traceback (most recent call last)",
      "\u001b[0;32m<ipython-input-5-4a7a562fda24>\u001b[0m in \u001b[0;36m<module>\u001b[0;34m()\u001b[0m\n\u001b[1;32m      1\u001b[0m \u001b[0;31m# Counting time zones\u001b[0m\u001b[0;34m\u001b[0m\u001b[0;34m\u001b[0m\u001b[0m\n\u001b[0;32m----> 2\u001b[0;31m \u001b[0mtime_zones\u001b[0m \u001b[0;34m=\u001b[0m \u001b[0;34m[\u001b[0m\u001b[0mrec\u001b[0m\u001b[0;34m[\u001b[0m\u001b[0;34m'tz'\u001b[0m\u001b[0;34m]\u001b[0m \u001b[0;32mfor\u001b[0m \u001b[0mrec\u001b[0m \u001b[0;32min\u001b[0m \u001b[0mrecords\u001b[0m\u001b[0;34m]\u001b[0m\u001b[0;34m\u001b[0m\u001b[0m\n\u001b[0m\u001b[1;32m      3\u001b[0m \u001b[0;31m# This throws an error because not all records have a time zone associated with them\u001b[0m\u001b[0;34m\u001b[0m\u001b[0;34m\u001b[0m\u001b[0m\n",
      "\u001b[0;31mKeyError\u001b[0m: 'tz'"
     ]
    }
   ],
   "source": [
    "# Counting time zones\n",
    "time_zones = [rec['tz'] for rec in records]\n",
    "# This throws an error because not all records have a time zone associated with them "
   ]
  },
  {
   "cell_type": "code",
   "execution_count": 6,
   "metadata": {
    "collapsed": false
   },
   "outputs": [
    {
     "data": {
      "text/plain": [
       "[u'America/New_York',\n",
       " u'America/Denver',\n",
       " u'America/New_York',\n",
       " u'America/Sao_Paulo',\n",
       " u'America/New_York',\n",
       " u'America/New_York',\n",
       " u'Europe/Warsaw',\n",
       " u'',\n",
       " u'',\n",
       " u'']"
      ]
     },
     "execution_count": 6,
     "metadata": {},
     "output_type": "execute_result"
    }
   ],
   "source": [
    "time_zones = [rec['tz'] for rec in records if 'tz' in rec]\n",
    "time_zones[:10]  # Print the first 10 rows"
   ]
  },
  {
   "cell_type": "markdown",
   "metadata": {},
   "source": [
    "### Counting timezones in standard Python"
   ]
  },
  {
   "cell_type": "code",
   "execution_count": 7,
   "metadata": {
    "collapsed": false
   },
   "outputs": [
    {
     "data": {
      "text/plain": [
       "{u'': 3,\n",
       " u'America/Denver': 1,\n",
       " u'America/New_York': 3,\n",
       " u'America/Sao_Paulo': 1,\n",
       " u'Europe/Warsaw': 1}"
      ]
     },
     "execution_count": 7,
     "metadata": {},
     "output_type": "execute_result"
    }
   ],
   "source": [
    "# Generating counts approach 1: using base python\n",
    "def get_counts(sequence):\n",
    "    counts={}\n",
    "    for x in sequence:\n",
    "        if x in counts:\n",
    "            counts[x]+=1\n",
    "        else:\n",
    "            counts[x] = 1\n",
    "    return counts\n",
    "\n",
    "get_counts(time_zones[1:10])"
   ]
  },
  {
   "cell_type": "code",
   "execution_count": 8,
   "metadata": {
    "collapsed": false
   },
   "outputs": [
    {
     "data": {
      "text/plain": [
       "defaultdict(int,\n",
       "            {u'': 3,\n",
       "             u'America/Denver': 1,\n",
       "             u'America/New_York': 3,\n",
       "             u'America/Sao_Paulo': 1,\n",
       "             u'Europe/Warsaw': 1})"
      ]
     },
     "execution_count": 8,
     "metadata": {},
     "output_type": "execute_result"
    }
   ],
   "source": [
    "# An alternate approach\n",
    "from collections import defaultdict\n",
    "\n",
    "def get_counts2(sequence):\n",
    "    counts = defaultdict(int)  # values will be initialized to 0\n",
    "    for x in sequence:\n",
    "        counts[x] += 1\n",
    "    return counts\n",
    "\n",
    "get_counts2(time_zones[1:10])"
   ]
  },
  {
   "cell_type": "code",
   "execution_count": 9,
   "metadata": {
    "collapsed": false
   },
   "outputs": [
    {
     "data": {
      "text/plain": [
       "1251"
      ]
     },
     "execution_count": 9,
     "metadata": {},
     "output_type": "execute_result"
    }
   ],
   "source": [
    "counts = get_counts(time_zones)\n",
    "counts['America/New_York']"
   ]
  },
  {
   "cell_type": "code",
   "execution_count": 10,
   "metadata": {
    "collapsed": false
   },
   "outputs": [
    {
     "data": {
      "text/plain": [
       "3440"
      ]
     },
     "execution_count": 10,
     "metadata": {},
     "output_type": "execute_result"
    }
   ],
   "source": [
    "len(time_zones)"
   ]
  },
  {
   "cell_type": "code",
   "execution_count": 11,
   "metadata": {
    "collapsed": false
   },
   "outputs": [
    {
     "data": {
      "text/plain": [
       "[(33, u'America/Sao_Paulo'),\n",
       " (35, u'Europe/Madrid'),\n",
       " (36, u'Pacific/Honolulu'),\n",
       " (37, u'Asia/Tokyo'),\n",
       " (74, u'Europe/London'),\n",
       " (191, u'America/Denver'),\n",
       " (382, u'America/Los_Angeles'),\n",
       " (400, u'America/Chicago'),\n",
       " (521, u''),\n",
       " (1251, u'America/New_York')]"
      ]
     },
     "execution_count": 11,
     "metadata": {},
     "output_type": "execute_result"
    }
   ],
   "source": [
    "# Getting the top 10 counts\n",
    "def top_counts(count_dict,n=10):\n",
    "    value_key_pairs = [(count,tz) for tz,count in count_dict.items()]\n",
    "    value_key_pairs.sort()\n",
    "    return value_key_pairs[-10:]   # displays the last 10 records\n",
    "\n",
    "top_counts(counts)"
   ]
  },
  {
   "cell_type": "code",
   "execution_count": 12,
   "metadata": {
    "collapsed": false
   },
   "outputs": [
    {
     "data": {
      "text/plain": [
       "[(u'America/New_York', 1251),\n",
       " (u'', 521),\n",
       " (u'America/Chicago', 400),\n",
       " (u'America/Los_Angeles', 382),\n",
       " (u'America/Denver', 191),\n",
       " (u'Europe/London', 74),\n",
       " (u'Asia/Tokyo', 37),\n",
       " (u'Pacific/Honolulu', 36),\n",
       " (u'Europe/Madrid', 35),\n",
       " (u'America/Sao_Paulo', 33)]"
      ]
     },
     "execution_count": 12,
     "metadata": {},
     "output_type": "execute_result"
    }
   ],
   "source": [
    "# An alternate approach is to use the collections.Counter class\n",
    "from collections import Counter\n",
    "counts = Counter(time_zones)\n",
    "counts.most_common(10)"
   ]
  },
  {
   "cell_type": "markdown",
   "metadata": {},
   "source": [
    "### Counting timezones with pandas"
   ]
  },
  {
   "cell_type": "code",
   "execution_count": 13,
   "metadata": {
    "collapsed": false
   },
   "outputs": [
    {
     "data": {
      "text/html": [
       "<pre>\n",
       "&lt;class 'pandas.core.frame.DataFrame'&gt;\n",
       "Int64Index: 3560 entries, 0 to 3559\n",
       "Data columns (total 18 columns):\n",
       "_heartbeat_    120  non-null values\n",
       "a              3440  non-null values\n",
       "al             3094  non-null values\n",
       "c              2919  non-null values\n",
       "cy             2919  non-null values\n",
       "g              3440  non-null values\n",
       "gr             2919  non-null values\n",
       "h              3440  non-null values\n",
       "hc             3440  non-null values\n",
       "hh             3440  non-null values\n",
       "kw             93  non-null values\n",
       "l              3440  non-null values\n",
       "ll             2919  non-null values\n",
       "nk             3440  non-null values\n",
       "r              3440  non-null values\n",
       "t              3440  non-null values\n",
       "tz             3440  non-null values\n",
       "u              3440  non-null values\n",
       "dtypes: float64(4), object(14)\n",
       "</pre>"
      ],
      "text/plain": [
       "<class 'pandas.core.frame.DataFrame'>\n",
       "Int64Index: 3560 entries, 0 to 3559\n",
       "Data columns (total 18 columns):\n",
       "_heartbeat_    120  non-null values\n",
       "a              3440  non-null values\n",
       "al             3094  non-null values\n",
       "c              2919  non-null values\n",
       "cy             2919  non-null values\n",
       "g              3440  non-null values\n",
       "gr             2919  non-null values\n",
       "h              3440  non-null values\n",
       "hc             3440  non-null values\n",
       "hh             3440  non-null values\n",
       "kw             93  non-null values\n",
       "l              3440  non-null values\n",
       "ll             2919  non-null values\n",
       "nk             3440  non-null values\n",
       "r              3440  non-null values\n",
       "t              3440  non-null values\n",
       "tz             3440  non-null values\n",
       "u              3440  non-null values\n",
       "dtypes: float64(4), object(14)"
      ]
     },
     "execution_count": 13,
     "metadata": {},
     "output_type": "execute_result"
    }
   ],
   "source": [
    "from pandas import DataFrame,Series\n",
    "import pandas as pd\n",
    "\n",
    "frame = DataFrame(records)\n",
    "frame"
   ]
  },
  {
   "cell_type": "code",
   "execution_count": 14,
   "metadata": {
    "collapsed": false
   },
   "outputs": [
    {
     "data": {
      "text/plain": [
       "America/New_York       1251\n",
       "                        521\n",
       "America/Chicago         400\n",
       "America/Los_Angeles     382\n",
       "America/Denver          191\n",
       "Europe/London            74\n",
       "Asia/Tokyo               37\n",
       "Pacific/Honolulu         36\n",
       "Europe/Madrid            35\n",
       "America/Sao_Paulo        33\n",
       "dtype: int64"
      ]
     },
     "execution_count": 14,
     "metadata": {},
     "output_type": "execute_result"
    }
   ],
   "source": [
    "tz_counts = frame['tz'].value_counts()\n",
    "tz_counts[:10]"
   ]
  },
  {
   "cell_type": "code",
   "execution_count": 15,
   "metadata": {
    "collapsed": false
   },
   "outputs": [
    {
     "data": {
      "text/plain": [
       "America/New_York       1251\n",
       "Unknown                 521\n",
       "America/Chicago         400\n",
       "America/Los_Angeles     382\n",
       "America/Denver          191\n",
       "Missing                 120\n",
       "Europe/London            74\n",
       "Asia/Tokyo               37\n",
       "Pacific/Honolulu         36\n",
       "Europe/Madrid            35\n",
       "dtype: int64"
      ]
     },
     "execution_count": 15,
     "metadata": {},
     "output_type": "execute_result"
    }
   ],
   "source": [
    "# Replace missing/NA values with 'missing'\n",
    "clean_tz = frame['tz'].fillna('Missing')\n",
    "clean_tz[clean_tz==''] = 'Unknown'\n",
    "tz_counts = clean_tz.value_counts()\n",
    "tz_counts[:10]"
   ]
  },
  {
   "cell_type": "code",
   "execution_count": 16,
   "metadata": {
    "collapsed": false
   },
   "outputs": [
    {
     "data": {
      "text/plain": [
       "<matplotlib.axes._subplots.AxesSubplot at 0x1055dbf90>"
      ]
     },
     "execution_count": 16,
     "metadata": {},
     "output_type": "execute_result"
    },
    {
     "data": {
      "image/png": "[encoded data removed]",
      "text/plain": [
       "<matplotlib.figure.Figure at 0x1055db9d0>"
      ]
     },
     "metadata": {},
     "output_type": "display_data"
    }
   ],
   "source": [
    "# Plot the counts \n",
    "%matplotlib inline\n",
    "tz_counts[:10].plot(kind='barh',rot=0)"
   ]
  },
  {
   "cell_type": "code",
   "execution_count": 18,
   "metadata": {
    "collapsed": false
   },
   "outputs": [
    {
     "data": {
      "text/plain": [
       "u'GoogleMaps/RochesterNY'"
      ]
     },
     "execution_count": 18,
     "metadata": {},
     "output_type": "execute_result"
    }
   ],
   "source": [
    "# Next extract the browser info from the 'a' field\n",
    "frame['a'][1]"
   ]
  },
  {
   "cell_type": "code",
   "execution_count": 19,
   "metadata": {
    "collapsed": false
   },
   "outputs": [
    {
     "data": {
      "text/plain": [
       "u'Mozilla/5.0 (Windows NT 5.1; rv:10.0.2) Gecko/20100101 Firefox/10.0.2'"
      ]
     },
     "execution_count": 19,
     "metadata": {},
     "output_type": "execute_result"
    }
   ],
   "source": [
    "frame['a'][50]"
   ]
  },
  {
   "cell_type": "code",
   "execution_count": 20,
   "metadata": {
    "collapsed": false
   },
   "outputs": [
    {
     "data": {
      "text/plain": [
       "0               Mozilla/5.0\n",
       "1    GoogleMaps/RochesterNY\n",
       "2               Mozilla/4.0\n",
       "3               Mozilla/5.0\n",
       "4               Mozilla/5.0\n",
       "dtype: object"
      ]
     },
     "execution_count": 20,
     "metadata": {},
     "output_type": "execute_result"
    }
   ],
   "source": [
    "results = Series([x.split()[0] for x in frame.a.dropna()])\n",
    "results[:5]"
   ]
  },
  {
   "cell_type": "code",
   "execution_count": 21,
   "metadata": {
    "collapsed": false
   },
   "outputs": [
    {
     "data": {
      "text/plain": [
       "Mozilla/5.0                 2594\n",
       "Mozilla/4.0                  601\n",
       "GoogleMaps/RochesterNY       121\n",
       "Opera/9.80                    34\n",
       "TEST_INTERNET_AGENT           24\n",
       "GoogleProducer                21\n",
       "Mozilla/6.0                    5\n",
       "BlackBerry8520/5.0.0.681       4\n",
       "dtype: int64"
      ]
     },
     "execution_count": 21,
     "metadata": {},
     "output_type": "execute_result"
    }
   ],
   "source": [
    "results.value_counts()[:8]"
   ]
  },
  {
   "cell_type": "code",
   "execution_count": 23,
   "metadata": {
    "collapsed": false
   },
   "outputs": [
    {
     "data": {
      "text/plain": [
       "0        Windows\n",
       "1    Not Windows\n",
       "2        Windows\n",
       "3    Not Windows\n",
       "4        Windows\n",
       "Name: a, dtype: object"
      ]
     },
     "execution_count": 23,
     "metadata": {},
     "output_type": "execute_result"
    }
   ],
   "source": [
    "# We now try to split the frame by Windows vs Non-Windoes\n",
    "import numpy as np\n",
    "cframe = frame[frame.a.notnull()]  # drop all the null records\n",
    "operating_system = np.where(cframe['a'].str.contains('Windows'),'Windows','Not Windows') # much like the ifelse() in R\n",
    "operating_system[:5]"
   ]
  },
  {
   "cell_type": "code",
   "execution_count": 33,
   "metadata": {
    "collapsed": false
   },
   "outputs": [
    {
     "data": {
      "text/html": [
       "<div style=\"max-height:1000px;max-width:1500px;overflow:auto;\">\n",
       "<table border=\"1\" class=\"dataframe\">\n",
       "  <thead>\n",
       "    <tr style=\"text-align: right;\">\n",
       "      <th>a</th>\n",
       "      <th>Not Windows</th>\n",
       "      <th>Windows</th>\n",
       "    </tr>\n",
       "    <tr>\n",
       "      <th>tz</th>\n",
       "      <th></th>\n",
       "      <th></th>\n",
       "    </tr>\n",
       "  </thead>\n",
       "  <tbody>\n",
       "    <tr>\n",
       "      <th>Africa/Cairo</th>\n",
       "      <td> 0</td>\n",
       "      <td> 3</td>\n",
       "    </tr>\n",
       "    <tr>\n",
       "      <th>Africa/Casablanca</th>\n",
       "      <td> 0</td>\n",
       "      <td> 1</td>\n",
       "    </tr>\n",
       "    <tr>\n",
       "      <th>Africa/Ceuta</th>\n",
       "      <td> 0</td>\n",
       "      <td> 2</td>\n",
       "    </tr>\n",
       "    <tr>\n",
       "      <th>Africa/Johannesburg</th>\n",
       "      <td> 0</td>\n",
       "      <td> 1</td>\n",
       "    </tr>\n",
       "    <tr>\n",
       "      <th>Africa/Lusaka</th>\n",
       "      <td> 0</td>\n",
       "      <td> 1</td>\n",
       "    </tr>\n",
       "    <tr>\n",
       "      <th>America/Anchorage</th>\n",
       "      <td> 4</td>\n",
       "      <td> 1</td>\n",
       "    </tr>\n",
       "    <tr>\n",
       "      <th>America/Argentina/Buenos_Aires</th>\n",
       "      <td> 1</td>\n",
       "      <td> 0</td>\n",
       "    </tr>\n",
       "    <tr>\n",
       "      <th>America/Argentina/Cordoba</th>\n",
       "      <td> 0</td>\n",
       "      <td> 1</td>\n",
       "    </tr>\n",
       "    <tr>\n",
       "      <th>America/Argentina/Mendoza</th>\n",
       "      <td> 0</td>\n",
       "      <td> 1</td>\n",
       "    </tr>\n",
       "  </tbody>\n",
       "</table>\n",
       "</div>"
      ],
      "text/plain": [
       "a                               Not Windows  Windows\n",
       "tz                                                  \n",
       "Africa/Cairo                              0        3\n",
       "Africa/Casablanca                         0        1\n",
       "Africa/Ceuta                              0        2\n",
       "Africa/Johannesburg                       0        1\n",
       "Africa/Lusaka                             0        1\n",
       "America/Anchorage                         4        1\n",
       "America/Argentina/Buenos_Aires            1        0\n",
       "America/Argentina/Cordoba                 0        1\n",
       "America/Argentina/Mendoza                 0        1"
      ]
     },
     "execution_count": 33,
     "metadata": {},
     "output_type": "execute_result"
    }
   ],
   "source": [
    "# Group data by its timezone column and the operating system\n",
    "by_tz_os = cframe.groupby(['tz',operating_system])\n",
    "agg_counts = by_tz_os.size().unstack().fillna(0)  # size is analogous to value counts. unstack reshapes into ta\n",
    "agg_counts[1:10]"
   ]
  },
  {
   "cell_type": "code",
   "execution_count": 35,
   "metadata": {
    "collapsed": false
   },
   "outputs": [
    {
     "data": {
      "text/plain": [
       "tz\n",
       "                                  24\n",
       "Africa/Cairo                      20\n",
       "Africa/Casablanca                 21\n",
       "Africa/Ceuta                      92\n",
       "Africa/Johannesburg               87\n",
       "Africa/Lusaka                     53\n",
       "America/Anchorage                 54\n",
       "America/Argentina/Buenos_Aires    57\n",
       "America/Argentina/Cordoba         26\n",
       "America/Argentina/Mendoza         55\n",
       "dtype: int64"
      ]
     },
     "execution_count": 35,
     "metadata": {},
     "output_type": "execute_result"
    }
   ],
   "source": [
    "# Select the top overall time zones\n",
    "# sorts in ascending order\n",
    "indexer = agg_counts.sum(1).argsort()\n",
    "indexer[:10]"
   ]
  },
  {
   "cell_type": "code",
   "execution_count": 62,
   "metadata": {
    "collapsed": false
   },
   "outputs": [
    {
     "data": {
      "text/html": [
       "<div style=\"max-height:1000px;max-width:1500px;overflow:auto;\">\n",
       "<table border=\"1\" class=\"dataframe\">\n",
       "  <thead>\n",
       "    <tr style=\"text-align: right;\">\n",
       "      <th>a</th>\n",
       "      <th>Not Windows</th>\n",
       "      <th>Windows</th>\n",
       "    </tr>\n",
       "    <tr>\n",
       "      <th>tz</th>\n",
       "      <th></th>\n",
       "      <th></th>\n",
       "    </tr>\n",
       "  </thead>\n",
       "  <tbody>\n",
       "    <tr>\n",
       "      <th>America/Sao_Paulo</th>\n",
       "      <td>  13</td>\n",
       "      <td>  20</td>\n",
       "    </tr>\n",
       "    <tr>\n",
       "      <th>Europe/Madrid</th>\n",
       "      <td>  16</td>\n",
       "      <td>  19</td>\n",
       "    </tr>\n",
       "    <tr>\n",
       "      <th>Pacific/Honolulu</th>\n",
       "      <td>   0</td>\n",
       "      <td>  36</td>\n",
       "    </tr>\n",
       "    <tr>\n",
       "      <th>Asia/Tokyo</th>\n",
       "      <td>   2</td>\n",
       "      <td>  35</td>\n",
       "    </tr>\n",
       "    <tr>\n",
       "      <th>Europe/London</th>\n",
       "      <td>  43</td>\n",
       "      <td>  31</td>\n",
       "    </tr>\n",
       "    <tr>\n",
       "      <th>America/Denver</th>\n",
       "      <td> 132</td>\n",
       "      <td>  59</td>\n",
       "    </tr>\n",
       "    <tr>\n",
       "      <th>America/Los_Angeles</th>\n",
       "      <td> 130</td>\n",
       "      <td> 252</td>\n",
       "    </tr>\n",
       "    <tr>\n",
       "      <th>America/Chicago</th>\n",
       "      <td> 115</td>\n",
       "      <td> 285</td>\n",
       "    </tr>\n",
       "    <tr>\n",
       "      <th></th>\n",
       "      <td> 245</td>\n",
       "      <td> 276</td>\n",
       "    </tr>\n",
       "    <tr>\n",
       "      <th>America/New_York</th>\n",
       "      <td> 339</td>\n",
       "      <td> 912</td>\n",
       "    </tr>\n",
       "  </tbody>\n",
       "</table>\n",
       "</div>"
      ],
      "text/plain": [
       "a                    Not Windows  Windows\n",
       "tz                                       \n",
       "America/Sao_Paulo             13       20\n",
       "Europe/Madrid                 16       19\n",
       "Pacific/Honolulu               0       36\n",
       "Asia/Tokyo                     2       35\n",
       "Europe/London                 43       31\n",
       "America/Denver               132       59\n",
       "America/Los_Angeles          130      252\n",
       "America/Chicago              115      285\n",
       "                             245      276\n",
       "America/New_York             339      912"
      ]
     },
     "execution_count": 62,
     "metadata": {},
     "output_type": "execute_result"
    }
   ],
   "source": [
    "count_subset = agg_counts.take(indexer)[-10:] # take selects rows based on the indexer, and removes the last 10 rows\n",
    "count_subset\n"
   ]
  },
  {
   "cell_type": "code",
   "execution_count": 39,
   "metadata": {
    "collapsed": false
   },
   "outputs": [
    {
     "data": {
      "text/plain": [
       "<matplotlib.axes._subplots.AxesSubplot at 0x105925e50>"
      ]
     },
     "execution_count": 39,
     "metadata": {},
     "output_type": "execute_result"
    },
    {
     "data": {
      "image/png": "[encoded data removed]",
      "text/plain": [
       "<matplotlib.figure.Figure at 0x105872cd0>"
      ]
     },
     "metadata": {},
     "output_type": "display_data"
    }
   ],
   "source": [
    "count_subset.plot(kind='barh',stacked=True)"
   ]
  },
  {
   "cell_type": "code",
   "execution_count": 42,
   "metadata": {
    "collapsed": false
   },
   "outputs": [
    {
     "data": {
      "text/plain": [
       "<matplotlib.axes._subplots.AxesSubplot at 0x105a586d0>"
      ]
     },
     "execution_count": 42,
     "metadata": {},
     "output_type": "execute_result"
    },
    {
     "data": {
      "image/png": "[encoded data removed]",
      "text/plain": [
       "<matplotlib.figure.Figure at 0x10582ffd0>"
      ]
     },
     "metadata": {},
     "output_type": "display_data"
    }
   ],
   "source": [
    "# normalizing the sum to 1\n",
    "normed_subset = count_subset.div(count_subset.sum(1),axis=0)\n",
    "normed_subset.plot(kind='barh',stacked=True)"
   ]
  },
  {
   "cell_type": "markdown",
   "metadata": {},
   "source": [
    "## MovieLens 1M Data"
   ]
  },
  {
   "cell_type": "code",
   "execution_count": 46,
   "metadata": {
    "collapsed": false
   },
   "outputs": [
    {
     "data": {
      "text/html": [
       "<div style=\"max-height:1000px;max-width:1500px;overflow:auto;\">\n",
       "<table border=\"1\" class=\"dataframe\">\n",
       "  <thead>\n",
       "    <tr style=\"text-align: right;\">\n",
       "      <th></th>\n",
       "      <th>user_id</th>\n",
       "      <th>gender</th>\n",
       "      <th>age</th>\n",
       "      <th>occupation</th>\n",
       "      <th>zip</th>\n",
       "    </tr>\n",
       "  </thead>\n",
       "  <tbody>\n",
       "    <tr>\n",
       "      <th>0</th>\n",
       "      <td> 1</td>\n",
       "      <td> F</td>\n",
       "      <td>  1</td>\n",
       "      <td> 10</td>\n",
       "      <td> 48067</td>\n",
       "    </tr>\n",
       "    <tr>\n",
       "      <th>1</th>\n",
       "      <td> 2</td>\n",
       "      <td> M</td>\n",
       "      <td> 56</td>\n",
       "      <td> 16</td>\n",
       "      <td> 70072</td>\n",
       "    </tr>\n",
       "    <tr>\n",
       "      <th>2</th>\n",
       "      <td> 3</td>\n",
       "      <td> M</td>\n",
       "      <td> 25</td>\n",
       "      <td> 15</td>\n",
       "      <td> 55117</td>\n",
       "    </tr>\n",
       "    <tr>\n",
       "      <th>3</th>\n",
       "      <td> 4</td>\n",
       "      <td> M</td>\n",
       "      <td> 45</td>\n",
       "      <td>  7</td>\n",
       "      <td> 02460</td>\n",
       "    </tr>\n",
       "    <tr>\n",
       "      <th>4</th>\n",
       "      <td> 5</td>\n",
       "      <td> M</td>\n",
       "      <td> 25</td>\n",
       "      <td> 20</td>\n",
       "      <td> 55455</td>\n",
       "    </tr>\n",
       "  </tbody>\n",
       "</table>\n",
       "</div>"
      ],
      "text/plain": [
       "   user_id gender  age  occupation    zip\n",
       "0        1      F    1          10  48067\n",
       "1        2      M   56          16  70072\n",
       "2        3      M   25          15  55117\n",
       "3        4      M   45           7  02460\n",
       "4        5      M   25          20  55455"
      ]
     },
     "execution_count": 46,
     "metadata": {},
     "output_type": "execute_result"
    }
   ],
   "source": [
    "import pandas as pd\n",
    "unames = ['user_id','gender','age','occupation','zip']\n",
    "users = pd.read_table('data/ml-1m/users.dat',sep='::',header=None,names=unames)\n",
    "\n",
    "rnames = ['user_id','movie_id','rating','time_stamp']\n",
    "ratings = pd.read_table('data/ml-1m/ratings.dat',sep='::',header=None,names=rnames)\n",
    "\n",
    "mnames = ['movie_id','title','genres']\n",
    "movies = pd.read_table('data/ml-1m/movies.dat',sep='::',header=None,names=mnames)\n",
    "\n",
    "users[:5]"
   ]
  },
  {
   "cell_type": "code",
   "execution_count": 47,
   "metadata": {
    "collapsed": false
   },
   "outputs": [
    {
     "data": {
      "text/html": [
       "<div style=\"max-height:1000px;max-width:1500px;overflow:auto;\">\n",
       "<table border=\"1\" class=\"dataframe\">\n",
       "  <thead>\n",
       "    <tr style=\"text-align: right;\">\n",
       "      <th></th>\n",
       "      <th>user_id</th>\n",
       "      <th>movie_id</th>\n",
       "      <th>rating</th>\n",
       "      <th>time_stamp</th>\n",
       "    </tr>\n",
       "  </thead>\n",
       "  <tbody>\n",
       "    <tr>\n",
       "      <th>0</th>\n",
       "      <td> 1</td>\n",
       "      <td> 1193</td>\n",
       "      <td> 5</td>\n",
       "      <td> 978300760</td>\n",
       "    </tr>\n",
       "    <tr>\n",
       "      <th>1</th>\n",
       "      <td> 1</td>\n",
       "      <td>  661</td>\n",
       "      <td> 3</td>\n",
       "      <td> 978302109</td>\n",
       "    </tr>\n",
       "    <tr>\n",
       "      <th>2</th>\n",
       "      <td> 1</td>\n",
       "      <td>  914</td>\n",
       "      <td> 3</td>\n",
       "      <td> 978301968</td>\n",
       "    </tr>\n",
       "    <tr>\n",
       "      <th>3</th>\n",
       "      <td> 1</td>\n",
       "      <td> 3408</td>\n",
       "      <td> 4</td>\n",
       "      <td> 978300275</td>\n",
       "    </tr>\n",
       "    <tr>\n",
       "      <th>4</th>\n",
       "      <td> 1</td>\n",
       "      <td> 2355</td>\n",
       "      <td> 5</td>\n",
       "      <td> 978824291</td>\n",
       "    </tr>\n",
       "  </tbody>\n",
       "</table>\n",
       "</div>"
      ],
      "text/plain": [
       "   user_id  movie_id  rating  time_stamp\n",
       "0        1      1193       5   978300760\n",
       "1        1       661       3   978302109\n",
       "2        1       914       3   978301968\n",
       "3        1      3408       4   978300275\n",
       "4        1      2355       5   978824291"
      ]
     },
     "execution_count": 47,
     "metadata": {},
     "output_type": "execute_result"
    }
   ],
   "source": [
    "ratings[:5]"
   ]
  },
  {
   "cell_type": "code",
   "execution_count": 48,
   "metadata": {
    "collapsed": false
   },
   "outputs": [
    {
     "data": {
      "text/html": [
       "<div style=\"max-height:1000px;max-width:1500px;overflow:auto;\">\n",
       "<table border=\"1\" class=\"dataframe\">\n",
       "  <thead>\n",
       "    <tr style=\"text-align: right;\">\n",
       "      <th></th>\n",
       "      <th>movie_id</th>\n",
       "      <th>title</th>\n",
       "      <th>genres</th>\n",
       "    </tr>\n",
       "  </thead>\n",
       "  <tbody>\n",
       "    <tr>\n",
       "      <th>0</th>\n",
       "      <td> 1</td>\n",
       "      <td>                   Toy Story (1995)</td>\n",
       "      <td>  Animation|Children's|Comedy</td>\n",
       "    </tr>\n",
       "    <tr>\n",
       "      <th>1</th>\n",
       "      <td> 2</td>\n",
       "      <td>                     Jumanji (1995)</td>\n",
       "      <td> Adventure|Children's|Fantasy</td>\n",
       "    </tr>\n",
       "    <tr>\n",
       "      <th>2</th>\n",
       "      <td> 3</td>\n",
       "      <td>            Grumpier Old Men (1995)</td>\n",
       "      <td>               Comedy|Romance</td>\n",
       "    </tr>\n",
       "    <tr>\n",
       "      <th>3</th>\n",
       "      <td> 4</td>\n",
       "      <td>           Waiting to Exhale (1995)</td>\n",
       "      <td>                 Comedy|Drama</td>\n",
       "    </tr>\n",
       "    <tr>\n",
       "      <th>4</th>\n",
       "      <td> 5</td>\n",
       "      <td> Father of the Bride Part II (1995)</td>\n",
       "      <td>                       Comedy</td>\n",
       "    </tr>\n",
       "  </tbody>\n",
       "</table>\n",
       "</div>"
      ],
      "text/plain": [
       "   movie_id                               title                        genres\n",
       "0         1                    Toy Story (1995)   Animation|Children's|Comedy\n",
       "1         2                      Jumanji (1995)  Adventure|Children's|Fantasy\n",
       "2         3             Grumpier Old Men (1995)                Comedy|Romance\n",
       "3         4            Waiting to Exhale (1995)                  Comedy|Drama\n",
       "4         5  Father of the Bride Part II (1995)                        Comedy"
      ]
     },
     "execution_count": 48,
     "metadata": {},
     "output_type": "execute_result"
    }
   ],
   "source": [
    "movies[:5]"
   ]
  },
  {
   "cell_type": "code",
   "execution_count": 49,
   "metadata": {
    "collapsed": false
   },
   "outputs": [
    {
     "data": {
      "text/html": [
       "<pre>\n",
       "&lt;class 'pandas.core.frame.DataFrame'&gt;\n",
       "Int64Index: 1000209 entries, 0 to 1000208\n",
       "Data columns (total 4 columns):\n",
       "user_id       1000209  non-null values\n",
       "movie_id      1000209  non-null values\n",
       "rating        1000209  non-null values\n",
       "time_stamp    1000209  non-null values\n",
       "dtypes: int64(4)\n",
       "</pre>"
      ],
      "text/plain": [
       "<class 'pandas.core.frame.DataFrame'>\n",
       "Int64Index: 1000209 entries, 0 to 1000208\n",
       "Data columns (total 4 columns):\n",
       "user_id       1000209  non-null values\n",
       "movie_id      1000209  non-null values\n",
       "rating        1000209  non-null values\n",
       "time_stamp    1000209  non-null values\n",
       "dtypes: int64(4)"
      ]
     },
     "execution_count": 49,
     "metadata": {},
     "output_type": "execute_result"
    }
   ],
   "source": [
    "ratings"
   ]
  },
  {
   "cell_type": "code",
   "execution_count": 50,
   "metadata": {
    "collapsed": true
   },
   "outputs": [],
   "source": [
    "# we will need to merge the above datasets\n",
    "data = pd.merge(pd.merge(ratings,users),movies) # pandas figures out the merge keys based on overlapping names"
   ]
  },
  {
   "cell_type": "code",
   "execution_count": 51,
   "metadata": {
    "collapsed": false
   },
   "outputs": [
    {
     "data": {
      "text/html": [
       "<pre>\n",
       "&lt;class 'pandas.core.frame.DataFrame'&gt;\n",
       "Int64Index: 1000209 entries, 0 to 1000208\n",
       "Data columns (total 10 columns):\n",
       "user_id       1000209  non-null values\n",
       "movie_id      1000209  non-null values\n",
       "rating        1000209  non-null values\n",
       "time_stamp    1000209  non-null values\n",
       "gender        1000209  non-null values\n",
       "age           1000209  non-null values\n",
       "occupation    1000209  non-null values\n",
       "zip           1000209  non-null values\n",
       "title         1000209  non-null values\n",
       "genres        1000209  non-null values\n",
       "dtypes: int64(6), object(4)\n",
       "</pre>"
      ],
      "text/plain": [
       "<class 'pandas.core.frame.DataFrame'>\n",
       "Int64Index: 1000209 entries, 0 to 1000208\n",
       "Data columns (total 10 columns):\n",
       "user_id       1000209  non-null values\n",
       "movie_id      1000209  non-null values\n",
       "rating        1000209  non-null values\n",
       "time_stamp    1000209  non-null values\n",
       "gender        1000209  non-null values\n",
       "age           1000209  non-null values\n",
       "occupation    1000209  non-null values\n",
       "zip           1000209  non-null values\n",
       "title         1000209  non-null values\n",
       "genres        1000209  non-null values\n",
       "dtypes: int64(6), object(4)"
      ]
     },
     "execution_count": 51,
     "metadata": {},
     "output_type": "execute_result"
    }
   ],
   "source": [
    "data"
   ]
  },
  {
   "cell_type": "code",
   "execution_count": 52,
   "metadata": {
    "collapsed": false
   },
   "outputs": [
    {
     "data": {
      "text/plain": [
       "user_id                                            1\n",
       "movie_id                                        1193\n",
       "rating                                             5\n",
       "time_stamp                                 978300760\n",
       "gender                                             F\n",
       "age                                                1\n",
       "occupation                                        10\n",
       "zip                                            48067\n",
       "title         One Flew Over the Cuckoo's Nest (1975)\n",
       "genres                                         Drama\n",
       "Name: 0, dtype: object"
      ]
     },
     "execution_count": 52,
     "metadata": {},
     "output_type": "execute_result"
    }
   ],
   "source": [
    "data.ix[0]"
   ]
  },
  {
   "cell_type": "code",
   "execution_count": 53,
   "metadata": {
    "collapsed": false
   },
   "outputs": [
    {
     "data": {
      "text/html": [
       "<div style=\"max-height:1000px;max-width:1500px;overflow:auto;\">\n",
       "<table border=\"1\" class=\"dataframe\">\n",
       "  <thead>\n",
       "    <tr style=\"text-align: right;\">\n",
       "      <th>gender</th>\n",
       "      <th>F</th>\n",
       "      <th>M</th>\n",
       "    </tr>\n",
       "    <tr>\n",
       "      <th>title</th>\n",
       "      <th></th>\n",
       "      <th></th>\n",
       "    </tr>\n",
       "  </thead>\n",
       "  <tbody>\n",
       "    <tr>\n",
       "      <th>$1,000,000 Duck (1971)</th>\n",
       "      <td> 3.375000</td>\n",
       "      <td> 2.761905</td>\n",
       "    </tr>\n",
       "    <tr>\n",
       "      <th>'Night Mother (1986)</th>\n",
       "      <td> 3.388889</td>\n",
       "      <td> 3.352941</td>\n",
       "    </tr>\n",
       "    <tr>\n",
       "      <th>'Til There Was You (1997)</th>\n",
       "      <td> 2.675676</td>\n",
       "      <td> 2.733333</td>\n",
       "    </tr>\n",
       "    <tr>\n",
       "      <th>'burbs, The (1989)</th>\n",
       "      <td> 2.793478</td>\n",
       "      <td> 2.962085</td>\n",
       "    </tr>\n",
       "    <tr>\n",
       "      <th>...And Justice for All (1979)</th>\n",
       "      <td> 3.828571</td>\n",
       "      <td> 3.689024</td>\n",
       "    </tr>\n",
       "  </tbody>\n",
       "</table>\n",
       "</div>"
      ],
      "text/plain": [
       "gender                                F         M\n",
       "title                                            \n",
       "$1,000,000 Duck (1971)         3.375000  2.761905\n",
       "'Night Mother (1986)           3.388889  3.352941\n",
       "'Til There Was You (1997)      2.675676  2.733333\n",
       "'burbs, The (1989)             2.793478  2.962085\n",
       "...And Justice for All (1979)  3.828571  3.689024"
      ]
     },
     "execution_count": 53,
     "metadata": {},
     "output_type": "execute_result"
    }
   ],
   "source": [
    "# we now get the mean ratings by gender\n",
    "mean_ratings = data.pivot_table('rating',rows='title', cols='gender',aggfunc='mean')\n",
    "mean_ratings[:5]"
   ]
  },
  {
   "cell_type": "code",
   "execution_count": 54,
   "metadata": {
    "collapsed": false
   },
   "outputs": [
    {
     "data": {
      "text/plain": [
       "title\n",
       "$1,000,000 Duck (1971)                37\n",
       "'Night Mother (1986)                  70\n",
       "'Til There Was You (1997)             52\n",
       "'burbs, The (1989)                   303\n",
       "...And Justice for All (1979)        199\n",
       "1-900 (1994)                           2\n",
       "10 Things I Hate About You (1999)    700\n",
       "101 Dalmatians (1961)                565\n",
       "101 Dalmatians (1996)                364\n",
       "12 Angry Men (1957)                  616\n",
       "dtype: int64"
      ]
     },
     "execution_count": 54,
     "metadata": {},
     "output_type": "execute_result"
    }
   ],
   "source": [
    "# next we keep titles with 250+ reviews\n",
    "ratings_by_title = data.groupby('title').size()\n",
    "ratings_by_title[:10]"
   ]
  },
  {
   "cell_type": "code",
   "execution_count": 55,
   "metadata": {
    "collapsed": false
   },
   "outputs": [
    {
     "data": {
      "text/plain": [
       "Index([u''burbs, The (1989)', u'10 Things I Hate About You (1999)', u'101 Dalmatians (1961)', u'101 Dalmatians (1996)', u'12 Angry Men (1957)', u'13th Warrior, The (1999)', u'2 Days in the Valley (1996)', u'20,000 Leagues Under the Sea (1954)', u'2001: A Space Odyssey (1968)', u'2010 (1984)', u'28 Days (2000)', u'39 Steps, The (1935)', u'54 (1998)', u'7th Voyage of Sinbad, The (1958)', u'8MM (1999)', u'About Last Night... (1986)', u'Absent Minded Professor, The (1961)', u'Absolute Power (1997)', u'Abyss, The (1989)', u'Ace Ventura: Pet Detective (1994)', u'Ace Ventura: When Nature Calls (1995)', u'Addams Family Values (1993)', u'Addams Family, The (1991)', u'Adventures in Babysitting (1987)', u'Adventures of Buckaroo Bonzai Across the 8th Dimension, The (1984)', u'Adventures of Priscilla, Queen of the Desert, The (1994)', u'Adventures of Robin Hood, The (1938)', u'African Queen, The (1951)', u'Age of Innocence, The (1993)', u'Agnes of God (1985)', u'Air America (1990)', u'Air Force One (1997)', u'Airplane II: The Sequel (1982)', u'Airplane! (1980)', u'Akira (1988)', u'Aladdin (1992)', u'Alice in Wonderland (1951)', u'Alien (1979)', u'Alien Nation (1988)', u'Alien: Resurrection (1997)', u'Aliens (1986)', u'Alien� (1992)', u'Alive (1993)', u'All About Eve (1950)', u'All About My Mother (Todo Sobre Mi Madre) (1999)', u'All Quiet on the Western Front (1930)', u'All That Jazz (1979)', u'Almost Famous (2000)', u'Amadeus (1984)', u'American Beauty (1999)', u'American Gigolo (1980)', u'American Graffiti (1973)', u'American History X (1998)', u'American Movie (1999)', u'American Pie (1999)', u'American President, The (1995)', u'American Psycho (2000)', u'American Tail, An (1986)', u'American Werewolf in London, An (1981)', u'American Werewolf in Paris, An (1997)', u'American in Paris, An (1951)', u'Amistad (1997)', u'Amityville Horror, The (1979)', u'Anaconda (1997)', u'Analyze This (1999)', u'Anastasia (1997)', u'And Now for Something Completely Different (1971)', u'Angel Heart (1987)', u'Animal House (1978)', u'Anna and the King (1999)', u'Annie Hall (1977)', u'Antz (1998)', u'Any Given Sunday (1999)', u'Apartment, The (1960)', u'Apocalypse Now (1979)', u'Apollo 13 (1995)', u'Apostle, The (1997)', u'Arachnophobia (1990)', u'Aristocats, The (1970)', u'Arlington Road (1999)', u'Armageddon (1998)', u'Army of Darkness (1993)', u'Around the World in 80 Days (1956)', u'Arrival, The (1996)', u'Arsenic and Old Lace (1944)', u'Arthur (1981)', u'As Good As It Gets (1997)', u'Astronaut's Wife, The (1999)', u'Atlantic City (1980)', u'Auntie Mame (1958)', u'Austin Powers: International Man of Mystery (1997)', u'Austin Powers: The Spy Who Shagged Me (1999)', u'Avengers, The (1998)', u'Awakenings (1990)', u'Babe (1995)', u'Babe: Pig in the City (1998)', u'Bachelor Party (1984)', u'Bachelor, The (1999)', u'Back to School (1986)', u'Back to the Future (1985)', u'Back to the Future Part II (1989)', u'Back to the Future Part III (1990)', u'Backdraft (1991)', u'Bad Boys (1995)', u'Bamba, La (1987)', u'Bambi (1942)', u'Bananas (1971)', u'Barb Wire (1996)', u'Barbarella (1968)', u'Basic Instinct (1992)', u'Batman & Robin (1997)', u'Batman (1989)', u'Batman Forever (1995)', u'Batman Returns (1992)', u'Battle for the Planet of the Apes (1973)', u'Battlefield Earth (2000)', u'Beach, The (2000)', u'Beauty and the Beast (1991)', u'Beavis and Butt-head Do America (1996)', u'Bedknobs and Broomsticks (1971)', u'Beetlejuice (1988)', u'Being John Malkovich (1999)', u'Being There (1979)', u'Ben-Hur (1959)', u'Beneath the Planet of the Apes (1970)', u'Benny & Joon (1993)', u'Best in Show (2000)', u'Better Off Dead... (1985)', u'Beverly Hills Cop III (1994)', u'Bicentennial Man (1999)', u'Bicycle Thief, The (Ladri di biciclette) (1948)', u'Big (1988)', u'Big Chill, The (1983)', u'Big Daddy (1999)', u'Big Kahuna, The (2000)', u'Big Lebowski, The (1998)', u'Big Night (1996)', u'Big Sleep, The (1946)', u'Big Trouble in Little China (1986)', u'Billy Madison (1995)', u'Bird on a Wire (1990)', u'Birdcage, The (1996)', u'Birds, The (1963)', u'Black Hole, The (1979)', u'Blade (1998)', u'Blade Runner (1982)', u'Blair Witch Project, The (1999)', u'Blast from the Past (1999)', u'Blazing Saddles (1974)', u'Blob, The (1958)', u'Blood Simple (1984)', u'Blue Lagoon, The (1980)', u'Blue Velvet (1986)', u'Blues Brothers, The (1980)', u'Boat, The (Das Boot) (1981)', u'Bob Roberts (1992)', u'Body Heat (1981)', u'Body Snatchers (1993)', u'Bodyguard, The (1992)', u'Boiler Room (2000)', u'Bone Collector, The (1999)', u'Bonnie and Clyde (1967)', u'Boogie Nights (1997)', u'Bottle Rocket (1996)', u'Bound (1996)', u'Bowfinger (1999)', u'Boys Don't Cry (1999)', u'Brady Bunch Movie, The (1995)', u'Bram Stoker's Dracula (1992)', u'Braveheart (1995)', u'Brazil (1985)', u'Breakdown (1997)', u'Breaker Morant (1980)', u'Breakfast Club, The (1985)', u'Breakfast at Tiffany's (1961)', u'Breaking Away (1979)', u'Breaking the Waves (1996)', u'Bridge on the River Kwai, The (1957)', u'Bridges of Madison County, The (1995)', u'Bringing Out the Dead (1999)', u'Bringing Up Baby (1938)', u'Broadcast News (1987)', u'Broken Arrow (1996)', u'Bronx Tale, A (1993)', u'Brothers McMullen, The (1995)', u'Buffalo 66 (1998)', u'Buffy the Vampire Slayer (1992)', u'Bug's Life, A (1998)', u'Bull Durham (1988)', u'Bullets Over Broadway (1994)', u'Bulworth (1998)', u'Butch Cassidy and the Sundance Kid (1969)', u'Cabaret (1972)', u'Cable Guy, The (1996)', u'Caddyshack (1980)', u'Can't Hardly Wait (1998)', u'Candyman (1992)', u'Cape Fear (1962)', u'Cape Fear (1991)', u'Carlito's Way (1993)', u'Carrie (1976)', u'Casablanca (1942)', u'Casino (1995)', u'Casper (1995)', u'Cat Ballou (1965)', u'Cat on a Hot Tin Roof (1958)', u'Cell, The (2000)', u'Charade (1963)', u'Chariots of Fire (1981)', u'Charlotte's Web (1973)', u'Chasing Amy (1997)', u'Chicken Run (2000)', u'Children of a Lesser God (1986)', u'Chinatown (1974)', u'Christine (1983)', u'Christmas Story, A (1983)', u'Christmas Vacation (1989)', u'Cider House Rules, The (1999)', u'Cinderella (1950)', u'Cinema Paradiso (1988)', u'Circle of Friends (1995)', u'Citizen Kane (1941)', u'City Lights (1931)', u'City Slickers II: The Legend of Curly's Gold (1994)', u'City of Angels (1998)', u'City of Lost Children, The (1995)', u'Civil Action, A (1998)', u'Clear and Present Danger (1994)', u'Clerks (1994)', u'Client, The (1994)', u'Cliffhanger (1993)', u'Clockwork Orange, A (1971)', u'Close Encounters of the Third Kind (1977)', u'Close Shave, A (1995)', u'Clue (1985)', u'Clueless (1995)', u'Cocoon (1985)', u'Cocoon: The Return (1988)', u'Color Purple, The (1985)', u'Color of Money, The (1986)', u'Commitments, The (1991)', u'Con Air (1997)', u'Conan the Barbarian (1982)', u'Coneheads (1993)', u'Congo (1995)', u'Conquest of the Planet of the Apes (1972)', u'Conspiracy Theory (1997)', u'Contact (1997)', u'Contender, The (2000)', u'Conversation, The (1974)', u'Cool Hand Luke (1967)', u'Cool Runnings (1993)', u'Cop Land (1997)', u'Copycat (1995)', u'Corrina, Corrina (1994)', u'Courage Under Fire (1996)', u'Cradle Will Rock, The (1999)', u'Craft, The (1996)', u'Creature Comforts (1990)', u'Creepshow (1982)', u'Crimes and Misdemeanors (1989)', u'Crimson Tide (1995)', u'Crocodile Dundee (1986)', u'Crocodile Dundee II (1988)', u'Crow, The (1994)', u'Cruel Intentions (1999)', u'Crumb (1994)', u'Crying Game, The (1992)', u'Cyrano de Bergerac (1990)', u'Dances with Wolves (1990)', u'Dangerous Liaisons (1988)', u'Dante's Peak (1997)', u'Dark City (1998)', u'Dark Crystal, The (1982)', u'Dave (1993)', u'Day the Earth Stood Still, The (1951)', u'Days of Thunder (1990)', u'Dazed and Confused (1993)', u'Dead Again (1991)', u'Dead Calm (1989)', u'Dead Man Walking (1995)', u'Dead Men Don't Wear Plaid (1982)', u'Dead Poets Society (1989)', u'Dead Zone, The (1983)', u'Death Becomes Her (1992)', u'Deconstructing Harry (1997)', u'Deep Blue Sea (1999)', u'Deep Impact (1998)', u'Deer Hunter, The (1978)', u'Defending Your Life (1991)', u'Delicatessen (1991)', u'Deliverance (1972)', u'Demolition Man (1993)', u'Desperado (1995)', u'Desperately Seeking Susan (1985)', u'Deuce Bigalow: Male Gigolo (1999)', u'Devil in a Blue Dress (1995)', u'Devil's Advocate, The (1997)', u'Devil's Own, The (1997)', u'Dial M for Murder (1954)', u'Dick (1999)', u'Dick Tracy (1990)', u'Die Hard (1988)', u'Die Hard 2 (1990)', u'Die Hard: With a Vengeance (1995)', u'Diner (1982)', u'Dinosaur (2000)', u'Dirty Dancing (1987)', u'Dirty Dozen, The (1967)', u'Disclosure (1994)', u'Diva (1981)', u'Do the Right Thing (1989)', u'Doctor Dolittle (1998)', u'Doctor Zhivago (1965)', u'Dog Day Afternoon (1975)', u'Dogma (1999)', u'Dolores Claiborne (1994)', u'Don Juan DeMarco (1995)', u'Donnie Brasco (1997)', u'Doors, The (1991)', u'Double Indemnity (1944)', u'Double Jeopardy (1999)', u'Dr. No (1962)', u'Dr. Strangelove or: How I Learned to Stop Worrying and Love the Bomb (1963)', u'Dragonheart (1996)', u'Dreamscape (1984)', u'Driving Miss Daisy (1989)', u'Drop Dead Fred (1991)', u'Drop Dead Gorgeous (1999)', u'Drugstore Cowboy (1989)', u'Duck Soup (1933)', u'Dumb & Dumber (1994)', u'Dumbo (1941)', u'Dune (1984)', u'E.T. the Extra-Terrestrial (1982)', u'EDtv (1999)', u'Easy Rider (1969)', u'Eat Drink Man Woman (1994)', u'Ed Wood (1994)', u'Edward Scissorhands (1990)', u'Election (1999)', u'Elephant Man, The (1980)', u'Elizabeth (1998)', u'Emma (1996)', u'Empire Records (1995)', u'Encino Man (1992)', u'End of Days (1999)', u'Enemy of the State (1998)', u'English Patient, The (1996)', u'Englishman Who Went Up a Hill, But Came Down a Mountain, The (1995)', u'Entrapment (1999)', u'Eraser (1996)', u'Erin Brockovich (2000)', u'Escape from L.A. (1996)', u'Escape from New York (1981)', u'Escape from the Planet of the Apes (1971)', u'Escape to Witch Mountain (1975)', u'European Vacation (1985)', u'Event Horizon (1997)', u'Ever After: A Cinderella Story (1998)', u'Everyone Says I Love You (1996)', u'Everything You Always Wanted to Know About Sex (1972)', u'Evil Dead II (Dead By Dawn) (1987)', u'Evita (1996)', u'Excalibur (1981)', u'Executive Decision (1996)', u'Exorcist, The (1973)', u'Eye of the Beholder (1999)', u'Eyes Wide Shut (1999)', u'F/X (1986)', u'Fabulous Baker Boys, The (1989)', u'Face/Off (1997)', u'Faculty, The (1998)', u'Falcon and the Snowman, The (1984)', u'Fallen (1998)', u'Falling Down (1993)', u'Fantasia (1940)', u'Fantasia 2000 (1999)', u'Fantastic Voyage (1966)', u'Far and Away (1992)', u'Farewell My Concubine (1993)', u'Fargo (1996)', u'Fast Times at Ridgemont High (1982)', u'Fatal Attraction (1987)', u'Father of the Bride (1950)', u'Father of the Bride Part II (1995)', u'Fear and Loathing in Las Vegas (1998)', u'Ferris Bueller's Day Off (1986)', u'Few Good Men, A (1992)', u'Field of Dreams (1989)', u'Fifth Element, The (1997)', u'Fight Club (1999)', u'Final Destination (2000)', u'Firestarter (1984)', u'Firm, The (1993)', u'First Blood (1982)', u'First Knight (1995)', u'First Wives Club, The (1996)', u'Fish Called Wanda, A (1988)', u'Fisher King, The (1991)', u'Fistful of Dollars, A (1964)', u'Five Easy Pieces (1970)', u'Flamingo Kid, The (1984)', u'Flashdance (1983)', u'Flatliners (1990)', u'Fletch (1985)', u'Flight of the Navigator (1986)', u'Flintstones, The (1994)', u'Flirting With Disaster (1996)', u'Flubber (1997)', u'Fly II, The (1989)', u'Fly, The (1958)', u'Fly, The (1986)', u'Fools Rush In (1997)', u'Footloose (1984)', u'For Love of the Game (1999)', u'For Your Eyes Only (1981)', u'For a Few Dollars More (1965)', u'Forbidden Planet (1956)', u'Forever Young (1992)', u'Forget Paris (1995)', u'Forrest Gump (1994)', u'Four Weddings and a Funeral (1994)', u'Fox and the Hound, The (1981)', u'Frankenstein (1931)', u'Free Willy (1993)', u'Freejack (1992)', u'French Connection, The (1971)', u'French Kiss (1995)', u'Frequency (2000)', u'Friday (1995)', u'Friday the 13th (1980)', u'Fried Green Tomatoes (1991)', u'Fright Night (1985)', u'Frighteners, The (1996)', u'From Dusk Till Dawn (1996)', u'From Here to Eternity (1953)', u'From Russia with Love (1963)', u'Fugitive, The (1993)', u'Full Metal Jacket (1987)', u'Full Monty, The (1997)', u'G.I. Jane (1997)', u'Galaxy Quest (1999)', u'Game, The (1997)', u'Gandhi (1982)', u'Gattaca (1997)', u'General's Daughter, The (1999)', u'George of the Jungle (1997)', u'Get Shorty (1995)', u'Ghost (1990)', u'Ghost Dog: The Way of the Samurai (1999)', u'Ghost and the Darkness, The (1996)', u'Ghost in the Shell (Kokaku kidotai) (1995)', u'Ghostbusters (1984)', u'Ghostbusters II (1989)', u'Girl, Interrupted (1999)', u'Gladiator (2000)', u'Glengarry Glen Ross (1992)', u'Glory (1989)', u'Go (1999)', u'Godfather, The (1972)', u'Godfather: Part II, The (1974)', u'Godfather: Part III, The (1990)', u'Gods Must Be Crazy, The (1980)', u'Gods and Monsters (1998)', u'Godzilla (1998)', u'Godzilla (Gojira) (1954)', u'Gold Rush, The (1925)', u'Golden Child, The (1986)', u'GoldenEye (1995)', u'Goldfinger (1964)', u'Gone in 60 Seconds (2000)', u'Gone with the Wind (1939)', u'Good Morning, Vietnam (1987)', u'Good Will Hunting (1997)', u'Good, The Bad and The Ugly, The (1966)', u'GoodFellas (1990)', u'Goodbye Girl, The (1977)', u'Goonies, The (1985)', u'Graduate, The (1967)', u'Grand Canyon (1991)', u'Grand Day Out, A (1992)', u'Grapes of Wrath, The (1940)', u'Grease (1978)', u'Grease 2 (1982)', u'Great Escape, The (1963)', u'Great Expectations (1998)', u'Great Muppet Caper, The (1981)', u'Green Mile, The (1999)', u'Gremlins (1984)', u'Gremlins 2: The New Batch (1990)', u'Grifters, The (1990)', u'Grosse Pointe Blank (1997)', u'Groundhog Day (1993)', u'Grumpier Old Men (1995)', u'Grumpy Old Men (1993)', u'Guess Who's Coming to Dinner (1967)', u'Guns of Navarone, The (1961)', u'Guys and Dolls (1955)', u'Hackers (1995)', u'Hairspray (1988)', u'Halloween (1978)', u'Hamlet (1990)', u'Hamlet (1996)', u'Hand That Rocks the Cradle, The (1992)', u'Happiness (1998)', u'Happy Gilmore (1996)', u'Hard Day's Night, A (1964)', u'Hard-Boiled (Lashou shentan) (1992)', u'Harold and Maude (1971)', u'Harry and the Hendersons (1987)', u'Harvey (1950)', u'Haunting, The (1999)', u'Heartbreak Ridge (1986)', u'Heat (1995)', u'Heathers (1989)', u'Heaven Can Wait (1978)', u'Heavenly Creatures (1994)', u'Heavy Metal (1981)', u'Hellraiser (1987)', u'Help! (1965)', u'Henry V (1989)', u'Hercules (1997)', u'Hidden, The (1987)', u'High Fidelity (2000)', u'High Noon (1952)', u'High Plains Drifter (1972)', u'Highlander (1986)', u'His Girl Friday (1940)', u'History of the World: Part I (1981)', u'Holiday Inn (1942)', u'Hollow Man (2000)', u'Home Alone (1990)', u'Home Alone 2: Lost in New York (1992)', u'Honey, I Blew Up the Kid (1992)', u'Honey, I Shrunk the Kids (1989)', u'Honeymoon in Vegas (1992)', u'Hook (1991)', u'Hoop Dreams (1994)', u'Hoosiers (1986)', u'Hope Floats (1998)', u'Hot Shots! Part Deux (1993)', u'House on Haunted Hill, The (1999)', u'Howard the Duck (1986)', u'Howards End (1992)', u'Hud (1963)', u'Hudsucker Proxy, The (1994)', u'Hunchback of Notre Dame, The (1996)', u'Hunt for Red October, The (1990)', u'Hurricane, The (1999)', u'Hustler, The (1961)', u'I Know What You Did Last Summer (1997)', u'I Still Know What You Did Last Summer (1998)', u'I.Q. (1994)', u'Ice Storm, The (1997)', u'Ideal Husband, An (1999)', u'Immortal Beloved (1994)', u'In & Out (1997)', u'In the Company of Men (1997)', u'In the Heat of the Night (1967)', u'In the Line of Fire (1993)', u'In the Name of the Father (1993)', u'Independence Day (ID4) (1996)', u'Indian in the Cupboard, The (1995)', u'Indiana Jones and the Last Crusade (1989)', u'Indiana Jones and the Temple of Doom (1984)', u'Inherit the Wind (1960)', u'Insider, The (1999)', u'Inspector Gadget (1999)', u'Instinct (1999)', u'Interview with the Vampire (1994)', u'Invasion of the Body Snatchers (1956)', u'Iron Eagle (1986)', u'Iron Giant, The (1999)', u'Island of Dr. Moreau, The (1996)', u'It Could Happen to You (1994)', u'It Happened One Night (1934)', u'It's a Wonderful Life (1946)', u'JFK (1991)', u'Jackal, The (1997)', u'Jackie Brown (1997)', u'Jackie Chan's First Strike (1996)', u'Jacob's Ladder (1990)', u'James and the Giant Peach (1996)', u'Jaws (1975)', u'Jaws 2 (1978)', u'Jerk, The (1979)', u'Jerry Maguire (1996)', u'Jewel of the Nile, The (1985)', u'Johnny Mnemonic (1995)', u'Joy Luck Club, The (1993)', u'Judge Dredd (1995)', u'Jumanji (1995)', u'Jumpin' Jack Flash (1986)', u'Jungle Book, The (1967)', u'Jurassic Park (1993)', u'Kalifornia (1993)', u'Karate Kid III, The (1989)', u'Karate Kid, Part II, The (1986)', u'Karate Kid, The (1984)', u'Keeping the Faith (2000)', u'Kelly's Heroes (1970)', u'Kentucky Fried Movie, The (1977)', u'Key Largo (1948)', u'Kids in the Hall: Brain Candy (1996)', u'Killing Fields, The (1984)', u'King Kong (1933)', u'King Kong (1976)', u'King and I, The (1956)', u'Kingpin (1996)', u'Kiss the Girls (1997)', u'Klute (1971)', u'Kramer Vs. Kramer (1979)', u'L.A. Confidential (1997)', u'L.A. Story (1991)', u'Labyrinth (1986)', u'Lady and the Tramp (1955)', u'Ladyhawke (1985)', u'Lake Placid (1999)', u'Last Action Hero (1993)', u'Last Emperor, The (1987)', u'Last Man Standing (1996)', u'Last Picture Show, The (1971)', u'Last Temptation of Christ, The (1988)', u'Last of the Mohicans, The (1992)', u'Laura (1944)', u'Lawnmower Man, The (1992)', u'Lawrence of Arabia (1962)', u'League of Their Own, A (1992)', u'Leaving Las Vegas (1995)', u'Legend (1985)', u'Legends of the Fall (1994)', u'Lethal Weapon (1987)', u'Lethal Weapon 2 (1989)', u'Lethal Weapon 3 (1992)', u'Lethal Weapon 4 (1998)', u'Liar Liar (1997)', u'Licence to Kill (1989)', u'Life Is Beautiful (La Vita � bella) (1997)', u'Like Water for Chocolate (Como agua para chocolate) (1992)', u'Limey, The (1999)', u'Lion King, The (1994)', u'Little Big Man (1970)', u'Little Mermaid, The (1989)', u'Little Shop of Horrors (1986)', u'Little Shop of Horrors, The (1960)', u'Little Voice (1998)', u'Little Women (1994)', u'Live and Let Die (1973)', u'Loaded Weapon 1 (1993)', u'Local Hero (1983)', u'Lock, Stock & Two Smoking Barrels (1998)', u'Logan's Run (1976)', u'Lone Star (1996)', u'Long Kiss Goodnight, The (1996)', u'Longest Day, The (1962)', u'Lord of the Flies (1963)', u'Lord of the Rings, The (1978)', u'Lost World: Jurassic Park, The (1997)', u'Lost in Space (1998)', u'M (1931)', u'M*A*S*H (1970)', u'Mad Max (1979)', u'Mad Max 2 (a.k.a. The Road Warrior) (1981)', u'Mad Max Beyond Thunderdome (1985)', u'Madness of King George, The (1994)', u'Magnolia (1999)', u'Malcolm X (1992)', u'Mallrats (1995)', u'Maltese Falcon, The (1941)', u'Man Who Knew Too Little, The (1997)', u'Man Who Would Be King, The (1975)', u'Man in the Iron Mask, The (1998)', u'Man on the Moon (1999)', u'Man with Two Brains, The (1983)', u'Man with the Golden Gun, The (1974)', u'Manchurian Candidate, The (1962)', u'Manhattan (1979)', u'Manhattan Murder Mystery (1993)', u'Marathon Man (1976)', u'Mariachi, El (1992)', u'Married to the Mob (1988)', u'Mars Attacks! (1996)', u'Mary Poppins (1964)', u'Mask of Zorro, The (1998)', u'Mask, The (1994)', u'Matrix, The (1999)', u'Maverick (1994)', u'Me, Myself and Irene (2000)', u'Meatballs (1979)', u'Medicine Man (1992)', u'Meet Joe Black (1998)', u'Meet the Parents (2000)', u'Men in Black (1997)', u'Menace II Society (1993)', u'Mercury Rising (1998)', u'Messenger: The Story of Joan of Arc, The (1999)', u'Metropolis (1926)', u'Michael (1996)', u'Mickey Blue Eyes (1999)', u'Midnight Cowboy (1969)', u'Midnight Express (1978)', u'Midnight Run (1988)', u'Midnight in the Garden of Good and Evil (1997)', u'Midsummer Night's Dream, A (1999)', u'Mighty Aphrodite (1995)', u'Mighty Ducks, The (1992)', u'Miller's Crossing (1990)', u'Mimic (1997)', u'Miracle on 34th Street (1947)', u'Misery (1990)', u'Mission to Mars (2000)', u'Mission: Impossible (1996)', u'Mission: Impossible 2 (2000)', u'Mister Roberts (1955)', u'Mis�rables, Les (1998)', u'Modern Times (1936)', u'Money Pit, The (1986)', u'Monty Python and the Holy Grail (1974)', u'Monty Python's Life of Brian (1979)', u'Moonraker (1979)', u'Moonstruck (1987)', u'Mortal Kombat (1995)', u'Mosquito Coast, The (1986)', u'Mr. Holland's Opus (1995)', u'Mr. Mom (1983)', u'Mr. Smith Goes to Washington (1939)', u'Mrs. Brown (Her Majesty, Mrs. Brown) (1997)', u'Mrs. Doubtfire (1993)', u'Much Ado About Nothing (1993)', u'Mulan (1998)', u'Mulholland Falls (1996)', u'Mumford (1999)', u'Mummy, The (1999)', u'Muppet Christmas Carol, The (1992)', u'Muppet Movie, The (1979)', u'Muppet Treasure Island (1996)', u'Muppets Take Manhattan, The (1984)', u'Murder at 1600 (1997)', u'Muriel's Wedding (1994)', u'Murphy's Romance (1985)', u'My Best Friend's Wedding (1997)', u'My Cousin Vinny (1992)', u'My Dog Skip (1999)', u'My Fair Lady (1964)', u'My Favorite Year (1982)', u'My Left Foot (1989)', u'My Life as a Dog (Mitt liv som hund) (1985)', u'Mystery Men (1999)', u'Mystery Science Theater 3000: The Movie (1996)', u'Mystery, Alaska (1999)', u'Naked Gun 2 1/2: The Smell of Fear, The (1991)', u'Naked Gun 33 1/3: The Final Insult (1994)', u'Naked Gun: From the Files of Police Squad!, The (1988)', u'Name of the Rose, The (1986)', u'Nashville (1975)', u'Natural Born Killers (1994)', u'Natural, The (1984)', u'Negotiator, The (1998)', u'Net, The (1995)', u'Network (1976)', u'Never Been Kissed (1999)', u'NeverEnding Story, The (1984)', u'Night Shift (1982)', u'Night of the Comet (1984)', u'Night of the Living Dead (1968)', u'Nightmare Before Christmas, The (1993)', u'Nightmare on Elm Street 3: Dream Warriors, A (1987)', u'Nightmare on Elm Street Part 2: Freddy's Revenge, A (1985)', u'Nightmare on Elm Street, A (1984)', u'Nikita (La Femme Nikita) (1990)', u'Nineteen Eighty-Four (1984)', u'Ninth Gate, The (2000)', u'No Way Out (1987)', u'North by Northwest (1959)', u'Notorious (1946)', u'Notting Hill (1999)', u'Nurse Betty (2000)', u'Nutty Professor, The (1996)', u'October Sky (1999)', u'Odd Couple, The (1968)', u'Of Mice and Men (1992)', u'Office Space (1999)', u'Old Yeller (1957)', u'Omen, The (1976)', u'On Golden Pond (1981)', u'On Her Majesty's Secret Service (1969)', u'On the Waterfront (1954)', u'One Flew Over the Cuckoo's Nest (1975)', u'Opposite of Sex, The (1998)', u'Ordinary People (1980)', u'Out of Africa (1985)', u'Out of Sight (1998)', u'Outbreak (1995)', u'Outlaw Josey Wales, The (1976)', u'Outsiders, The (1983)', u'Pacific Heights (1990)', u'Pale Rider (1985)', u'Paper Chase, The (1973)', u'Papillon (1973)', u'Parent Trap, The (1961)', u'Parent Trap, The (1998)', u'Parenthood (1989)', u'Patch Adams (1998)', u'Patriot Games (1992)', u'Patriot, The (2000)', u'Patton (1970)', u'Payback (1999)', u'Peacemaker, The (1997)', u'Pecker (1998)', u'Pee-wee's Big Adventure (1985)', u'Peggy Sue Got Married (1986)', u'Pelican Brief, The (1993)', u'People vs. Larry Flynt, The (1996)', u'Perfect Murder, A (1998)', u'Perfect Storm, The (2000)', u'Perfect World, A (1993)', u'Pet Sematary (1989)', u'Pete's Dragon (1977)', u'Peter Pan (1953)', u'Phantasm (1979)', u'Phenomenon (1996)', u'Philadelphia (1993)', u'Philadelphia Story, The (1940)', u'Pi (1998)', u'Piano, The (1993)', u'Pink Floyd - The Wall (1982)', u'Pinocchio (1940)', u'Pitch Black (2000)', u'Planet of the Apes (1968)', u'Platoon (1986)', u'Player, The (1992)', u'Pleasantville (1998)', u'Pocahontas (1995)', u'Police Academy (1984)', u'Poltergeist (1982)', u'Popeye (1980)', u'Porky's (1981)', u'Poseidon Adventure, The (1972)', u'Postino, Il (The Postman) (1994)', u'Powder (1995)', u'Predator (1987)', u'Predator 2 (1990)', u'Presidio, The (1988)', u'Pretty Woman (1990)', u'Pretty in Pink (1986)', u'Primal Fear (1996)', u'Primary Colors (1998)', u'Prince of Egypt, The (1998)', u'Prince of Tides, The (1991)', u'Princess Bride, The (1987)', u'Princess Mononoke, The (Mononoke Hime) (1997)', u'Private Benjamin (1980)', u'Private Parts (1997)', u'Prizzi's Honor (1985)', u'Producers, The (1968)', u'Professional, The (a.k.a. Leon: The Professional) (1994)', u'Psycho (1960)', u'Psycho (1998)', u'Pulp Fiction (1994)', u'Pump Up the Volume (1990)', u'Purple Rose of Cairo, The (1985)', u'Pushing Tin (1999)', u'Quick and the Dead, The (1995)', u'Quiz Show (1994)', u'Radio Days (1987)', u'Raging Bull (1980)', u'Raiders of the Lost Ark (1981)', u'Rain Man (1988)', u'Rainmaker, The (1997)', u'Raise the Red Lantern (1991)', u'Raising Arizona (1987)', u'Rambo III (1988)', u'Rambo: First Blood Part II (1985)', u'Ran (1985)', u'Random Hearts (1999)', u'Ransom (1996)', u'Real Genius (1985)', u'Reality Bites (1994)', u'Rear Window (1954)', u'Rebecca (1940)', u'Rebel Without a Cause (1955)', u'Red Dawn (1984)', u'Red Rock West (1992)', u'Red Violin, The (Le Violon rouge) (1998)', u'Ref, The (1994)', u'Reindeer Games (2000)', u'Remains of the Day, The (1993)', u'Remember the Titans (2000)', u'Replacement Killers, The (1998)', u'Repo Man (1984)', u'Requiem for a Dream (2000)', u'Reservoir Dogs (1992)', u'Return of the Pink Panther, The (1974)', u'Return to Me (2000)', u'Return to Oz (1985)', u'Right Stuff, The (1983)', u'Rising Sun (1993)', u'Risky Business (1983)', u'River Runs Through It, A (1992)', u'River Wild, The (1994)', u'Road Trip (2000)', u'Rob Roy (1995)', u'Robin Hood (1973)', u'Robin Hood: Men in Tights (1993)', u'Robin Hood: Prince of Thieves (1991)', u'Robocop (1987)', u'Robocop 2 (1990)', u'Rock, The (1996)', u'Rocketeer, The (1991)', u'Rocky (1976)', u'Rocky Horror Picture Show, The (1975)', u'Rocky II (1979)', u'Rocky III (1982)', u'Rocky IV (1985)', u'Rocky V (1990)', u'Roger & Me (1989)', u'Roman Holiday (1953)', u'Romancing the Stone (1984)', u'Romeo Must Die (2000)', u'Romeo and Juliet (1968)', u'Romy and Michele's High School Reunion (1997)', u'Ronin (1998)', u'Room with a View, A (1986)', u'Rosemary's Baby (1968)', u'Rosencrantz and Guildenstern Are Dead (1990)', u'Rounders (1998)', u'Rudy (1993)', u'Rules of Engagement (2000)', u'Rumble in the Bronx (1995)', u'Run Lola Run (Lola rennt) (1998)', u'Runaway Bride (1999)', u'Running Man, The (1987)', u'Running Scared (1986)', u'Rush Hour (1998)', u'Rushmore (1998)', u'Ruthless People (1986)', u'Sabrina (1954)', u'Sabrina (1995)', u'Saint, The (1997)', u'Santa Clause, The (1994)', u'Saving Private Ryan (1998)', u'Say Anything... (1989)', u'Scary Movie (2000)', u'Scent of a Woman (1992)', u'Schindler's List (1993)', u'Scream (1996)', u'Scream 2 (1997)', u'Scream 3 (2000)', u'Scrooged (1988)', u'Searching for Bobby Fischer (1993)', u'Secret Garden, The (1993)', u'Secret of NIMH, The (1982)', u'Secret of Roan Inish, The (1994)', u'Secrets & Lies (1996)', u'Sense and Sensibility (1995)', u'Serial Mom (1994)', u'Serpico (1973)', u'Seven (Se7en) (1995)', u'Seven Samurai (The Magnificent Seven) (Shichinin no samurai) (1954)', u'Seven Years in Tibet (1997)', u'Seventh Seal, The (Sjunde inseglet, Det) (1957)', u'Sex, Lies, and Videotape (1989)', u'Shadowlands (1993)', u'Shaft (2000)', u'Shakespeare in Love (1998)', u'Shall We Dance? (Shall We Dansu?) (1996)', u'Shallow Grave (1994)', u'Shampoo (1975)', u'Shane (1953)', u'Shanghai Noon (2000)', u'Shawshank Redemption, The (1994)', u'She's All That (1999)', u'Shine (1996)', u'Shining, The (1980)', u'Short Cuts (1993)', u'Sid and Nancy (1986)', u'Siege, The (1998)', u'Silence of the Lambs, The (1991)', u'Simple Plan, A (1998)', u'Singin' in the Rain (1952)', u'Single White Female (1992)', u'Singles (1992)', u'Sister Act (1992)', u'Six Days Seven Nights (1998)', u'Six Degrees of Separation (1993)', u'Sixteen Candles (1984)', u'Sixth Sense, The (1999)', u'Skulls, The (2000)', u'Sleeper (1973)', u'Sleepers (1996)', u'Sleeping Beauty (1959)', u'Sleepless in Seattle (1993)', u'Sleepy Hollow (1999)', u'Sliding Doors (1998)', u'Sling Blade (1996)', u'Slums of Beverly Hills, The (1998)', u'Small Soldiers (1998)', u'Small Time Crooks (2000)', u'Smilla's Sense of Snow (1997)', u'Smoke Signals (1998)', u'Snake Eyes (1998)', u'Sneakers (1992)', u'Snow Falling on Cedars (1999)', u'Snow White and the Seven Dwarfs (1937)', u'So I Married an Axe Murderer (1993)', u'Soapdish (1991)', u'Soldier (1998)', u'Some Folks Call It a Sling Blade (1993)', u'Some Like It Hot (1959)', u'Somewhere in Time (1980)', u'Sommersby (1993)', u'Sophie's Choice (1982)', u'Sound of Music, The (1965)', u'South Pacific (1958)', u'South Park: Bigger, Longer and Uncut (1999)', u'Soylent Green (1973)', u'Space Cowboys (2000)', u'Space Jam (1996)', u'Spaceballs (1987)', u'Spanish Prisoner, The (1997)', u'Spartacus (1960)', u'Spawn (1997)', u'Species (1995)', u'Speed (1994)', u'Speed 2: Cruise Control (1997)', u'Sphere (1998)', u'Splash (1984)', u'Spy Who Loved Me, The (1977)', u'St. Elmo's Fire (1985)', u'Stalag 17 (1953)', u'Stand and Deliver (1987)', u'Stand by Me (1986)', u'Star Trek III: The Search for Spock (1984)', u'Star Trek IV: The Voyage Home (1986)', u'Star Trek V: The Final Frontier (1989)', u'Star Trek VI: The Undiscovered Country (1991)', u'Star Trek: First Contact (1996)', u'Star Trek: Generations (1994)', u'Star Trek: Insurrection (1998)', u'Star Trek: The Motion Picture (1979)', u'Star Trek: The Wrath of Khan (1982)', u'Star Wars: Episode I - The Phantom Menace (1999)', u'Star Wars: Episode IV - A New Hope (1977)', u'Star Wars: Episode V - The Empire Strikes Back (1980)', u'Star Wars: Episode VI - Return of the Jedi (1983)', u'Stargate (1994)', u'Starman (1984)', u'Starship Troopers (1997)', u'Steel Magnolias (1989)', u'Stepford Wives, The (1975)', u'Stigmata (1999)', u'Sting, The (1973)', u'Stir of Echoes (1999)', u'Story of Us, The (1999)', u'Straight Story, The (1999)', u'Strange Days (1995)', u'Strangers on a Train (1951)', u'Streetcar Named Desire, A (1951)', u'Strictly Ballroom (1992)', u'Stripes (1981)', u'Striptease (1996)', u'Stuart Little (1999)', u'Summer of Sam (1999)', u'Sunset Blvd. (a.k.a. Sunset Boulevard) (1950)', u'Super Mario Bros. (1993)', u'Supercop (1992)', u'Superman (1978)', u'Superman II (1980)', u'Superman III (1983)', u'Superman IV: The Quest for Peace (1987)', u'Swamp Thing (1982)', u'Sweet Hereafter, The (1997)', u'Sweet and Lowdown (1999)', u'Swingers (1996)', u'Swiss Family Robinson (1960)', u'Sword in the Stone, The (1963)', u'Take the Money and Run (1969)', u'Taking of Pelham One Two Three, The (1974)', u'Talented Mr. Ripley, The (1999)', u'Tank Girl (1995)', u'Tarzan (1999)', u'Taxi Driver (1976)', u'Teenage Mutant Ninja Turtles (1990)', u'Teenage Mutant Ninja Turtles II: The Secret of the Ooze (1991)', u'Tender Mercies (1983)', u'Tequila Sunrise (1988)', u'Terminator 2: Judgment Day (1991)', u'Terminator, The (1984)', u'Terms of Endearment (1983)', u'That Thing You Do! (1996)', u'Thelma & Louise (1991)', u'Them! (1954)', u'There's Something About Mary (1998)', u'Thin Blue Line, The (1988)', u'Thin Man, The (1934)', u'Thin Red Line, The (1998)', u'Thing, The (1982)', u'Third Man, The (1949)', u'Thirteenth Floor, The (1999)', u'This Is Spinal Tap (1984)', u'Thomas Crown Affair, The (1968)', u'Thomas Crown Affair, The (1999)', u'Three Amigos! (1986)', u'Three Colors: Red (1994)', u'Three Days of the Condor (1975)', u'Three Kings (1999)', u'Three Musketeers, The (1993)', u'Thunderball (1965)', u'Time Bandits (1981)', u'Time to Kill, A (1996)', u'Timecop (1994)', u'Tin Cup (1996)', u'Tin Men (1987)', u'Titan A.E. (2000)', u'Titanic (1997)', u'To Catch a Thief (1955)', u'To Die For (1995)', u'To Kill a Mockingbird (1962)', u'Tombstone (1993)', u'Tommy Boy (1995)', u'Tomorrow Never Dies (1997)', u'Top Gun (1986)', u'Top Hat (1935)', u'Topsy-Turvy (1999)', u'Total Recall (1990)', u'Touch of Evil (1958)', u'Towering Inferno, The (1974)', u'Toy Story (1995)', u'Toy Story 2 (1999)', u'Toys (1992)', u'Trading Places (1983)', u'Trainspotting (1996)', u'Treasure of the Sierra Madre, The (1948)', u'Tron (1982)', u'True Grit (1969)', u'True Lies (1994)', u'True Romance (1993)', u'Truman Show, The (1998)', u'Truth About Cats & Dogs, The (1996)', u'Twelve Monkeys (1995)', u'Twister (1996)', u'U Turn (1997)', u'U-571 (2000)', u'U.S. Marshalls (1998)', u'Ulee's Gold (1997)', u'Unbearable Lightness of Being, The (1988)', u'Under Siege (1992)', u'Unforgiven (1992)', u'Universal Soldier (1992)', u'Untouchables, The (1987)', u'Usual Suspects, The (1995)', u'Vacation (1983)', u'Varsity Blues (1999)', u'Verdict, The (1982)', u'Vertigo (1958)', u'Victor/Victoria (1982)', u'View to a Kill, A (1985)', u'Virgin Suicides, The (1999)', u'Wag the Dog (1997)', u'Waiting for Guffman (1996)', u'Waking Ned Devine (1998)', u'Wallace & Gromit: The Best of Aardman Animation (1996)', u'War of the Worlds, The (1953)', u'Waterboy, The (1998)', u'Watership Down (1978)', u'Waterworld (1995)', u'Wayne's World (1992)', u'Wayne's World 2 (1993)', u'Wedding Singer, The (1998)', u'Weekend at Bernie's (1989)', u'Weird Science (1985)', u'Welcome to the Dollhouse (1995)', u'Wes Craven's New Nightmare (1994)', u'West Side Story (1961)', u'Westworld (1973)', u'What About Bob? (1991)', u'What Dreams May Come (1998)', u'What Lies Beneath (2000)', u'What's Eating Gilbert Grape (1993)', u'When Harry Met Sally... (1989)', u'When We Were Kings (1996)', u'Where Eagles Dare (1969)', u'Where the Heart Is (2000)', u'While You Were Sleeping (1995)', u'White Christmas (1954)', u'White Men Can't Jump (1992)', u'Who Framed Roger Rabbit? (1988)', u'Who's Afraid of Virginia Woolf? (1966)', u'Whole Nine Yards, The (2000)', u'Wild Bunch, The (1969)', u'Wild Things (1998)', u'Wild Wild West (1999)', u'William Shakespeare's Romeo and Juliet (1996)', u'Willow (1988)', u'Willy Wonka and the Chocolate Factory (1971)', u'Witness (1985)', u'Wizard of Oz, The (1939)', u'Wolf (1994)', u'Women on the Verge of a Nervous Breakdown (1988)', u'Wonder Boys (2000)', u'Working Girl (1988)', u'World Is Not Enough, The (1999)', u'Wrong Trousers, The (1993)', u'Wyatt Earp (1994)', u'X-Files: Fight the Future, The (1998)', u'X-Men (2000)', u'Year of Living Dangerously (1982)', u'Yellow Submarine (1968)', u'You've Got Mail (1998)', u'Young Frankenstein (1974)', u'Young Guns (1988)', u'Young Guns II (1990)', u'Young Sherlock Holmes (1985)', u'Zero Effect (1998)', u'eXistenZ (1999)'], dtype=object)"
      ]
     },
     "execution_count": 55,
     "metadata": {},
     "output_type": "execute_result"
    }
   ],
   "source": [
    "active_titles = ratings_by_title.index[ratings_by_title >= 250]\n",
    "active_titles"
   ]
  },
  {
   "cell_type": "code",
   "execution_count": 59,
   "metadata": {
    "collapsed": false
   },
   "outputs": [
    {
     "data": {
      "text/html": [
       "<pre>\n",
       "&lt;class 'pandas.core.frame.DataFrame'&gt;\n",
       "Index: 1216 entries, 'burbs, The (1989) to eXistenZ (1999)\n",
       "Data columns (total 2 columns):\n",
       "F    1216  non-null values\n",
       "M    1216  non-null values\n",
       "dtypes: float64(2)\n",
       "</pre>"
      ],
      "text/plain": [
       "<class 'pandas.core.frame.DataFrame'>\n",
       "Index: 1216 entries, 'burbs, The (1989) to eXistenZ (1999)\n",
       "Data columns (total 2 columns):\n",
       "F    1216  non-null values\n",
       "M    1216  non-null values\n",
       "dtypes: float64(2)"
      ]
     },
     "execution_count": 59,
     "metadata": {},
     "output_type": "execute_result"
    }
   ],
   "source": [
    "# the above list can now be used to select rows from mean ratings\n",
    "mean_ratings = mean_ratings.ix[active_titles]\n",
    "mean_ratings"
   ]
  },
  {
   "cell_type": "code",
   "execution_count": 64,
   "metadata": {
    "collapsed": false
   },
   "outputs": [
    {
     "data": {
      "text/html": [
       "<div style=\"max-height:1000px;max-width:1500px;overflow:auto;\">\n",
       "<table border=\"1\" class=\"dataframe\">\n",
       "  <thead>\n",
       "    <tr style=\"text-align: right;\">\n",
       "      <th>gender</th>\n",
       "      <th>F</th>\n",
       "      <th>M</th>\n",
       "    </tr>\n",
       "    <tr>\n",
       "      <th>title</th>\n",
       "      <th></th>\n",
       "      <th></th>\n",
       "    </tr>\n",
       "  </thead>\n",
       "  <tbody>\n",
       "    <tr>\n",
       "      <th>Close Shave, A (1995)</th>\n",
       "      <td> 4.644444</td>\n",
       "      <td> 4.473795</td>\n",
       "    </tr>\n",
       "    <tr>\n",
       "      <th>Wrong Trousers, The (1993)</th>\n",
       "      <td> 4.588235</td>\n",
       "      <td> 4.478261</td>\n",
       "    </tr>\n",
       "    <tr>\n",
       "      <th>Sunset Blvd. (a.k.a. Sunset Boulevard) (1950)</th>\n",
       "      <td> 4.572650</td>\n",
       "      <td> 4.464589</td>\n",
       "    </tr>\n",
       "    <tr>\n",
       "      <th>Wallace &amp; Gromit: The Best of Aardman Animation (1996)</th>\n",
       "      <td> 4.563107</td>\n",
       "      <td> 4.385075</td>\n",
       "    </tr>\n",
       "    <tr>\n",
       "      <th>Schindler's List (1993)</th>\n",
       "      <td> 4.562602</td>\n",
       "      <td> 4.491415</td>\n",
       "    </tr>\n",
       "    <tr>\n",
       "      <th>Shawshank Redemption, The (1994)</th>\n",
       "      <td> 4.539075</td>\n",
       "      <td> 4.560625</td>\n",
       "    </tr>\n",
       "    <tr>\n",
       "      <th>Grand Day Out, A (1992)</th>\n",
       "      <td> 4.537879</td>\n",
       "      <td> 4.293255</td>\n",
       "    </tr>\n",
       "    <tr>\n",
       "      <th>To Kill a Mockingbird (1962)</th>\n",
       "      <td> 4.536667</td>\n",
       "      <td> 4.372611</td>\n",
       "    </tr>\n",
       "    <tr>\n",
       "      <th>Creature Comforts (1990)</th>\n",
       "      <td> 4.513889</td>\n",
       "      <td> 4.272277</td>\n",
       "    </tr>\n",
       "    <tr>\n",
       "      <th>Usual Suspects, The (1995)</th>\n",
       "      <td> 4.513317</td>\n",
       "      <td> 4.518248</td>\n",
       "    </tr>\n",
       "  </tbody>\n",
       "</table>\n",
       "</div>"
      ],
      "text/plain": [
       "gender                                                         F         M\n",
       "title                                                                     \n",
       "Close Shave, A (1995)                                   4.644444  4.473795\n",
       "Wrong Trousers, The (1993)                              4.588235  4.478261\n",
       "Sunset Blvd. (a.k.a. Sunset Boulevard) (1950)           4.572650  4.464589\n",
       "Wallace & Gromit: The Best of Aardman Animation (1996)  4.563107  4.385075\n",
       "Schindler's List (1993)                                 4.562602  4.491415\n",
       "Shawshank Redemption, The (1994)                        4.539075  4.560625\n",
       "Grand Day Out, A (1992)                                 4.537879  4.293255\n",
       "To Kill a Mockingbird (1962)                            4.536667  4.372611\n",
       "Creature Comforts (1990)                                4.513889  4.272277\n",
       "Usual Suspects, The (1995)                              4.513317  4.518248"
      ]
     },
     "execution_count": 64,
     "metadata": {},
     "output_type": "execute_result"
    }
   ],
   "source": [
    "# Sort to see top movies among female viewers\n",
    "top_female_ratings = mean_ratings.sort_index(by='F',ascending=False)\n",
    "top_female_ratings[:10]"
   ]
  },
  {
   "cell_type": "markdown",
   "metadata": {},
   "source": [
    "### Measuring Rating Disagreement"
   ]
  },
  {
   "cell_type": "code",
   "execution_count": 66,
   "metadata": {
    "collapsed": false
   },
   "outputs": [
    {
     "data": {
      "text/html": [
       "<div style=\"max-height:1000px;max-width:1500px;overflow:auto;\">\n",
       "<table border=\"1\" class=\"dataframe\">\n",
       "  <thead>\n",
       "    <tr style=\"text-align: right;\">\n",
       "      <th>gender</th>\n",
       "      <th>F</th>\n",
       "      <th>M</th>\n",
       "      <th>diff</th>\n",
       "    </tr>\n",
       "    <tr>\n",
       "      <th>title</th>\n",
       "      <th></th>\n",
       "      <th></th>\n",
       "      <th></th>\n",
       "    </tr>\n",
       "  </thead>\n",
       "  <tbody>\n",
       "    <tr>\n",
       "      <th>Dirty Dancing (1987)</th>\n",
       "      <td> 3.790378</td>\n",
       "      <td> 2.959596</td>\n",
       "      <td>-0.830782</td>\n",
       "    </tr>\n",
       "    <tr>\n",
       "      <th>Jumpin' Jack Flash (1986)</th>\n",
       "      <td> 3.254717</td>\n",
       "      <td> 2.578358</td>\n",
       "      <td>-0.676359</td>\n",
       "    </tr>\n",
       "    <tr>\n",
       "      <th>Grease (1978)</th>\n",
       "      <td> 3.975265</td>\n",
       "      <td> 3.367041</td>\n",
       "      <td>-0.608224</td>\n",
       "    </tr>\n",
       "    <tr>\n",
       "      <th>Little Women (1994)</th>\n",
       "      <td> 3.870588</td>\n",
       "      <td> 3.321739</td>\n",
       "      <td>-0.548849</td>\n",
       "    </tr>\n",
       "    <tr>\n",
       "      <th>Steel Magnolias (1989)</th>\n",
       "      <td> 3.901734</td>\n",
       "      <td> 3.365957</td>\n",
       "      <td>-0.535777</td>\n",
       "    </tr>\n",
       "    <tr>\n",
       "      <th>Anastasia (1997)</th>\n",
       "      <td> 3.800000</td>\n",
       "      <td> 3.281609</td>\n",
       "      <td>-0.518391</td>\n",
       "    </tr>\n",
       "    <tr>\n",
       "      <th>Rocky Horror Picture Show, The (1975)</th>\n",
       "      <td> 3.673016</td>\n",
       "      <td> 3.160131</td>\n",
       "      <td>-0.512885</td>\n",
       "    </tr>\n",
       "    <tr>\n",
       "      <th>Color Purple, The (1985)</th>\n",
       "      <td> 4.158192</td>\n",
       "      <td> 3.659341</td>\n",
       "      <td>-0.498851</td>\n",
       "    </tr>\n",
       "    <tr>\n",
       "      <th>Age of Innocence, The (1993)</th>\n",
       "      <td> 3.827068</td>\n",
       "      <td> 3.339506</td>\n",
       "      <td>-0.487561</td>\n",
       "    </tr>\n",
       "    <tr>\n",
       "      <th>Free Willy (1993)</th>\n",
       "      <td> 2.921348</td>\n",
       "      <td> 2.438776</td>\n",
       "      <td>-0.482573</td>\n",
       "    </tr>\n",
       "  </tbody>\n",
       "</table>\n",
       "</div>"
      ],
      "text/plain": [
       "gender                                        F         M      diff\n",
       "title                                                              \n",
       "Dirty Dancing (1987)                   3.790378  2.959596 -0.830782\n",
       "Jumpin' Jack Flash (1986)              3.254717  2.578358 -0.676359\n",
       "Grease (1978)                          3.975265  3.367041 -0.608224\n",
       "Little Women (1994)                    3.870588  3.321739 -0.548849\n",
       "Steel Magnolias (1989)                 3.901734  3.365957 -0.535777\n",
       "Anastasia (1997)                       3.800000  3.281609 -0.518391\n",
       "Rocky Horror Picture Show, The (1975)  3.673016  3.160131 -0.512885\n",
       "Color Purple, The (1985)               4.158192  3.659341 -0.498851\n",
       "Age of Innocence, The (1993)           3.827068  3.339506 -0.487561\n",
       "Free Willy (1993)                      2.921348  2.438776 -0.482573"
      ]
     },
     "execution_count": 66,
     "metadata": {},
     "output_type": "execute_result"
    }
   ],
   "source": [
    "# Create a new column called 'diff' that tracks the difference between male and female ratings\n",
    "mean_ratings['diff'] = mean_ratings['M'] - mean_ratings['F']\n",
    "sorted_by_diff = mean_ratings.sort_index(by='diff')\n",
    "sorted_by_diff[:10]"
   ]
  },
  {
   "cell_type": "code",
   "execution_count": 68,
   "metadata": {
    "collapsed": false
   },
   "outputs": [
    {
     "data": {
      "text/html": [
       "<div style=\"max-height:1000px;max-width:1500px;overflow:auto;\">\n",
       "<table border=\"1\" class=\"dataframe\">\n",
       "  <thead>\n",
       "    <tr style=\"text-align: right;\">\n",
       "      <th>gender</th>\n",
       "      <th>F</th>\n",
       "      <th>M</th>\n",
       "      <th>diff</th>\n",
       "    </tr>\n",
       "    <tr>\n",
       "      <th>title</th>\n",
       "      <th></th>\n",
       "      <th></th>\n",
       "      <th></th>\n",
       "    </tr>\n",
       "  </thead>\n",
       "  <tbody>\n",
       "    <tr>\n",
       "      <th>Good, The Bad and The Ugly, The (1966)</th>\n",
       "      <td> 3.494949</td>\n",
       "      <td> 4.221300</td>\n",
       "      <td> 0.726351</td>\n",
       "    </tr>\n",
       "    <tr>\n",
       "      <th>Kentucky Fried Movie, The (1977)</th>\n",
       "      <td> 2.878788</td>\n",
       "      <td> 3.555147</td>\n",
       "      <td> 0.676359</td>\n",
       "    </tr>\n",
       "    <tr>\n",
       "      <th>Dumb &amp; Dumber (1994)</th>\n",
       "      <td> 2.697987</td>\n",
       "      <td> 3.336595</td>\n",
       "      <td> 0.638608</td>\n",
       "    </tr>\n",
       "    <tr>\n",
       "      <th>Longest Day, The (1962)</th>\n",
       "      <td> 3.411765</td>\n",
       "      <td> 4.031447</td>\n",
       "      <td> 0.619682</td>\n",
       "    </tr>\n",
       "    <tr>\n",
       "      <th>Cable Guy, The (1996)</th>\n",
       "      <td> 2.250000</td>\n",
       "      <td> 2.863787</td>\n",
       "      <td> 0.613787</td>\n",
       "    </tr>\n",
       "    <tr>\n",
       "      <th>Evil Dead II (Dead By Dawn) (1987)</th>\n",
       "      <td> 3.297297</td>\n",
       "      <td> 3.909283</td>\n",
       "      <td> 0.611985</td>\n",
       "    </tr>\n",
       "    <tr>\n",
       "      <th>Hidden, The (1987)</th>\n",
       "      <td> 3.137931</td>\n",
       "      <td> 3.745098</td>\n",
       "      <td> 0.607167</td>\n",
       "    </tr>\n",
       "    <tr>\n",
       "      <th>Rocky III (1982)</th>\n",
       "      <td> 2.361702</td>\n",
       "      <td> 2.943503</td>\n",
       "      <td> 0.581801</td>\n",
       "    </tr>\n",
       "    <tr>\n",
       "      <th>Caddyshack (1980)</th>\n",
       "      <td> 3.396135</td>\n",
       "      <td> 3.969737</td>\n",
       "      <td> 0.573602</td>\n",
       "    </tr>\n",
       "    <tr>\n",
       "      <th>For a Few Dollars More (1965)</th>\n",
       "      <td> 3.409091</td>\n",
       "      <td> 3.953795</td>\n",
       "      <td> 0.544704</td>\n",
       "    </tr>\n",
       "    <tr>\n",
       "      <th>Porky's (1981)</th>\n",
       "      <td> 2.296875</td>\n",
       "      <td> 2.836364</td>\n",
       "      <td> 0.539489</td>\n",
       "    </tr>\n",
       "    <tr>\n",
       "      <th>Animal House (1978)</th>\n",
       "      <td> 3.628906</td>\n",
       "      <td> 4.167192</td>\n",
       "      <td> 0.538286</td>\n",
       "    </tr>\n",
       "    <tr>\n",
       "      <th>Exorcist, The (1973)</th>\n",
       "      <td> 3.537634</td>\n",
       "      <td> 4.067239</td>\n",
       "      <td> 0.529605</td>\n",
       "    </tr>\n",
       "    <tr>\n",
       "      <th>Fright Night (1985)</th>\n",
       "      <td> 2.973684</td>\n",
       "      <td> 3.500000</td>\n",
       "      <td> 0.526316</td>\n",
       "    </tr>\n",
       "    <tr>\n",
       "      <th>Barb Wire (1996)</th>\n",
       "      <td> 1.585366</td>\n",
       "      <td> 2.100386</td>\n",
       "      <td> 0.515020</td>\n",
       "    </tr>\n",
       "  </tbody>\n",
       "</table>\n",
       "</div>"
      ],
      "text/plain": [
       "gender                                         F         M      diff\n",
       "title                                                               \n",
       "Good, The Bad and The Ugly, The (1966)  3.494949  4.221300  0.726351\n",
       "Kentucky Fried Movie, The (1977)        2.878788  3.555147  0.676359\n",
       "Dumb & Dumber (1994)                    2.697987  3.336595  0.638608\n",
       "Longest Day, The (1962)                 3.411765  4.031447  0.619682\n",
       "Cable Guy, The (1996)                   2.250000  2.863787  0.613787\n",
       "Evil Dead II (Dead By Dawn) (1987)      3.297297  3.909283  0.611985\n",
       "Hidden, The (1987)                      3.137931  3.745098  0.607167\n",
       "Rocky III (1982)                        2.361702  2.943503  0.581801\n",
       "Caddyshack (1980)                       3.396135  3.969737  0.573602\n",
       "For a Few Dollars More (1965)           3.409091  3.953795  0.544704\n",
       "Porky's (1981)                          2.296875  2.836364  0.539489\n",
       "Animal House (1978)                     3.628906  4.167192  0.538286\n",
       "Exorcist, The (1973)                    3.537634  4.067239  0.529605\n",
       "Fright Night (1985)                     2.973684  3.500000  0.526316\n",
       "Barb Wire (1996)                        1.585366  2.100386  0.515020"
      ]
     },
     "execution_count": 68,
     "metadata": {},
     "output_type": "execute_result"
    }
   ],
   "source": [
    "# to get the top 15 rows for movies preferred by men over women\n",
    "sorted_by_diff[::-1][:15]"
   ]
  },
  {
   "cell_type": "code",
   "execution_count": 70,
   "metadata": {
    "collapsed": false
   },
   "outputs": [
    {
     "data": {
      "text/plain": [
       "title\n",
       "Dumb & Dumber (1994)                     1.321333\n",
       "Blair Witch Project, The (1999)          1.316368\n",
       "Natural Born Killers (1994)              1.307198\n",
       "Tank Girl (1995)                         1.277695\n",
       "Rocky Horror Picture Show, The (1975)    1.260177\n",
       "Eyes Wide Shut (1999)                    1.259624\n",
       "Evita (1996)                             1.253631\n",
       "Billy Madison (1995)                     1.249970\n",
       "Fear and Loathing in Las Vegas (1998)    1.246408\n",
       "Bicentennial Man (1999)                  1.245533\n",
       "Name: rating, dtype: float64"
      ]
     },
     "execution_count": 70,
     "metadata": {},
     "output_type": "execute_result"
    }
   ],
   "source": [
    "# Next we look at movies that had the most disagreement among viewers, irrespective of gender. \n",
    "# We look at the variance or stdev of ratings\n",
    "ratings_std_by_title = data.groupby('title')['rating'].std()\n",
    "ratings_std_by_title = ratings_std_by_title.ix[active_titles]\n",
    "ratings_std_by_title.order(ascending=False)[:10]"
   ]
  },
  {
   "cell_type": "markdown",
   "metadata": {},
   "source": [
    "## US Baby Names 1880-2010"
   ]
  },
  {
   "cell_type": "code",
   "execution_count": 73,
   "metadata": {
    "collapsed": false
   },
   "outputs": [
    {
     "data": {
      "text/html": [
       "<pre>\n",
       "&lt;class 'pandas.core.frame.DataFrame'&gt;\n",
       "Int64Index: 2000 entries, 0 to 1999\n",
       "Data columns (total 3 columns):\n",
       "name      2000  non-null values\n",
       "sex       2000  non-null values\n",
       "births    2000  non-null values\n",
       "dtypes: int64(1), object(2)\n",
       "</pre>"
      ],
      "text/plain": [
       "<class 'pandas.core.frame.DataFrame'>\n",
       "Int64Index: 2000 entries, 0 to 1999\n",
       "Data columns (total 3 columns):\n",
       "name      2000  non-null values\n",
       "sex       2000  non-null values\n",
       "births    2000  non-null values\n",
       "dtypes: int64(1), object(2)"
      ]
     },
     "execution_count": 73,
     "metadata": {},
     "output_type": "execute_result"
    }
   ],
   "source": [
    "# Check one of the downloaded files\n",
    "import pandas as pd\n",
    "\n",
    "names1880 = pd.read_csv('data/names/yob1880.txt',names=['name','sex','births'])\n",
    "names1880"
   ]
  },
  {
   "cell_type": "code",
   "execution_count": 74,
   "metadata": {
    "collapsed": false
   },
   "outputs": [
    {
     "data": {
      "text/plain": [
       "sex\n",
       "F       90992\n",
       "M      110490\n",
       "Name: births, dtype: int64"
      ]
     },
     "execution_count": 74,
     "metadata": {},
     "output_type": "execute_result"
    }
   ],
   "source": [
    "# Find the number of male and female babies born in 1880\n",
    "names1880.groupby('sex').births.sum()"
   ]
  },
  {
   "cell_type": "code",
   "execution_count": 81,
   "metadata": {
    "collapsed": false
   },
   "outputs": [
    {
     "data": {
      "text/html": [
       "<pre>\n",
       "&lt;class 'pandas.core.frame.DataFrame'&gt;\n",
       "Int64Index: 1858689 entries, 0 to 1858688\n",
       "Columns: 4 entries, name to year\n",
       "dtypes: int64(2), object(2)\n",
       "</pre>"
      ],
      "text/plain": [
       "<class 'pandas.core.frame.DataFrame'>\n",
       "Int64Index: 1858689 entries, 0 to 1858688\n",
       "Columns: 4 entries, name to year\n",
       "dtypes: int64(2), object(2)"
      ]
     },
     "execution_count": 81,
     "metadata": {},
     "output_type": "execute_result"
    }
   ],
   "source": [
    "# We have files until 2015. We read the all of these files in\n",
    "years = range(1880,2016)\n",
    "pieces = []\n",
    "columns = ['name','sex','births']\n",
    "\n",
    "for year in years:\n",
    "    path = 'data/names/yob%d.txt' %year\n",
    "    frame = pd.read_csv(path,names=columns)\n",
    "    frame['year'] = year\n",
    "    pieces.append(frame)\n",
    "    \n",
    "# Concatenate into a single data frame\n",
    "names = pd.concat(pieces,ignore_index=True)\n",
    "names"
   ]
  },
  {
   "cell_type": "code",
   "execution_count": 82,
   "metadata": {
    "collapsed": false
   },
   "outputs": [
    {
     "data": {
      "text/html": [
       "<div style=\"max-height:1000px;max-width:1500px;overflow:auto;\">\n",
       "<table border=\"1\" class=\"dataframe\">\n",
       "  <thead>\n",
       "    <tr style=\"text-align: right;\">\n",
       "      <th>sex</th>\n",
       "      <th>F</th>\n",
       "      <th>M</th>\n",
       "    </tr>\n",
       "    <tr>\n",
       "      <th>year</th>\n",
       "      <th></th>\n",
       "      <th></th>\n",
       "    </tr>\n",
       "  </thead>\n",
       "  <tbody>\n",
       "    <tr>\n",
       "      <th>2011</th>\n",
       "      <td> 1754424</td>\n",
       "      <td> 1894262</td>\n",
       "    </tr>\n",
       "    <tr>\n",
       "      <th>2012</th>\n",
       "      <td> 1755254</td>\n",
       "      <td> 1890889</td>\n",
       "    </tr>\n",
       "    <tr>\n",
       "      <th>2013</th>\n",
       "      <td> 1747544</td>\n",
       "      <td> 1883945</td>\n",
       "    </tr>\n",
       "    <tr>\n",
       "      <th>2014</th>\n",
       "      <td> 1777242</td>\n",
       "      <td> 1910876</td>\n",
       "    </tr>\n",
       "    <tr>\n",
       "      <th>2015</th>\n",
       "      <td> 1769325</td>\n",
       "      <td> 1898858</td>\n",
       "    </tr>\n",
       "  </tbody>\n",
       "</table>\n",
       "</div>"
      ],
      "text/plain": [
       "sex         F        M\n",
       "year                  \n",
       "2011  1754424  1894262\n",
       "2012  1755254  1890889\n",
       "2013  1747544  1883945\n",
       "2014  1777242  1910876\n",
       "2015  1769325  1898858"
      ]
     },
     "execution_count": 82,
     "metadata": {},
     "output_type": "execute_result"
    }
   ],
   "source": [
    "total_births = names.pivot_table('births',rows='year',cols='sex',aggfunc=sum)\n",
    "total_births.tail()"
   ]
  },
  {
   "cell_type": "code",
   "execution_count": 83,
   "metadata": {
    "collapsed": false
   },
   "outputs": [
    {
     "data": {
      "text/html": [
       "<pre>\n",
       "&lt;class 'pandas.core.frame.DataFrame'&gt;\n",
       "Int64Index: 1858689 entries, 0 to 1858688\n",
       "Columns: 5 entries, name to prop\n",
       "dtypes: float64(1), int64(2), object(2)\n",
       "</pre>"
      ],
      "text/plain": [
       "<class 'pandas.core.frame.DataFrame'>\n",
       "Int64Index: 1858689 entries, 0 to 1858688\n",
       "Columns: 5 entries, name to prop\n",
       "dtypes: float64(1), int64(2), object(2)"
      ]
     },
     "execution_count": 83,
     "metadata": {},
     "output_type": "execute_result"
    }
   ],
   "source": [
    "# Add proportions\n",
    "def add_prop(group):\n",
    "    births = group.births.astype(float)  # convert births from interger to float for division\n",
    "    group['prop'] = births/births.sum()\n",
    "    return group\n",
    "names = names.groupby(['year','sex']).apply(add_prop)\n",
    "names"
   ]
  },
  {
   "cell_type": "code",
   "execution_count": 84,
   "metadata": {
    "collapsed": false
   },
   "outputs": [
    {
     "data": {
      "text/plain": [
       "True"
      ]
     },
     "execution_count": 84,
     "metadata": {},
     "output_type": "execute_result"
    }
   ],
   "source": [
    "# Check to see if proportions add up to 1\n",
    "np.allclose(names.groupby(['year','sex']).prop.sum(),1)"
   ]
  },
  {
   "cell_type": "code",
   "execution_count": 86,
   "metadata": {
    "collapsed": false
   },
   "outputs": [
    {
     "data": {
      "text/html": [
       "<pre>\n",
       "&lt;class 'pandas.core.frame.DataFrame'&gt;\n",
       "MultiIndex: 271877 entries, (1880, F, 0) to (2015, M, 1845729)\n",
       "Data columns (total 5 columns):\n",
       "name      271877  non-null values\n",
       "sex       271877  non-null values\n",
       "births    271877  non-null values\n",
       "year      271877  non-null values\n",
       "prop      271877  non-null values\n",
       "dtypes: float64(1), int64(2), object(2)\n",
       "</pre>"
      ],
      "text/plain": [
       "<class 'pandas.core.frame.DataFrame'>\n",
       "MultiIndex: 271877 entries, (1880, F, 0) to (2015, M, 1845729)\n",
       "Data columns (total 5 columns):\n",
       "name      271877  non-null values\n",
       "sex       271877  non-null values\n",
       "births    271877  non-null values\n",
       "year      271877  non-null values\n",
       "prop      271877  non-null values\n",
       "dtypes: float64(1), int64(2), object(2)"
      ]
     },
     "execution_count": 86,
     "metadata": {},
     "output_type": "execute_result"
    }
   ],
   "source": [
    "# extract the top1000 names for each sex, year combination\n",
    "def get_top1000(group):\n",
    "    return group.sort_index(by='births',ascending=False)[:1000]\n",
    "grouped = names.groupby(['year','sex'])\n",
    "top1000 = grouped.apply(get_top1000)\n",
    "top1000"
   ]
  },
  {
   "cell_type": "code",
   "execution_count": 87,
   "metadata": {
    "collapsed": false
   },
   "outputs": [
    {
     "data": {
      "text/html": [
       "<div style=\"max-height:1000px;max-width:1500px;overflow:auto;\">\n",
       "<table border=\"1\" class=\"dataframe\">\n",
       "  <thead>\n",
       "    <tr style=\"text-align: right;\">\n",
       "      <th></th>\n",
       "      <th></th>\n",
       "      <th></th>\n",
       "      <th>name</th>\n",
       "      <th>sex</th>\n",
       "      <th>births</th>\n",
       "      <th>year</th>\n",
       "      <th>prop</th>\n",
       "    </tr>\n",
       "    <tr>\n",
       "      <th>year</th>\n",
       "      <th>sex</th>\n",
       "      <th></th>\n",
       "      <th></th>\n",
       "      <th></th>\n",
       "      <th></th>\n",
       "      <th></th>\n",
       "      <th></th>\n",
       "    </tr>\n",
       "  </thead>\n",
       "  <tbody>\n",
       "    <tr>\n",
       "      <th rowspan=\"10\" valign=\"top\">1880</th>\n",
       "      <th rowspan=\"10\" valign=\"top\">F</th>\n",
       "      <th>0</th>\n",
       "      <td>      Mary</td>\n",
       "      <td> F</td>\n",
       "      <td> 7065</td>\n",
       "      <td> 1880</td>\n",
       "      <td> 0.077644</td>\n",
       "    </tr>\n",
       "    <tr>\n",
       "      <th>1</th>\n",
       "      <td>      Anna</td>\n",
       "      <td> F</td>\n",
       "      <td> 2604</td>\n",
       "      <td> 1880</td>\n",
       "      <td> 0.028618</td>\n",
       "    </tr>\n",
       "    <tr>\n",
       "      <th>2</th>\n",
       "      <td>      Emma</td>\n",
       "      <td> F</td>\n",
       "      <td> 2003</td>\n",
       "      <td> 1880</td>\n",
       "      <td> 0.022013</td>\n",
       "    </tr>\n",
       "    <tr>\n",
       "      <th>3</th>\n",
       "      <td> Elizabeth</td>\n",
       "      <td> F</td>\n",
       "      <td> 1939</td>\n",
       "      <td> 1880</td>\n",
       "      <td> 0.021310</td>\n",
       "    </tr>\n",
       "    <tr>\n",
       "      <th>4</th>\n",
       "      <td>    Minnie</td>\n",
       "      <td> F</td>\n",
       "      <td> 1746</td>\n",
       "      <td> 1880</td>\n",
       "      <td> 0.019189</td>\n",
       "    </tr>\n",
       "    <tr>\n",
       "      <th>5</th>\n",
       "      <td>  Margaret</td>\n",
       "      <td> F</td>\n",
       "      <td> 1578</td>\n",
       "      <td> 1880</td>\n",
       "      <td> 0.017342</td>\n",
       "    </tr>\n",
       "    <tr>\n",
       "      <th>6</th>\n",
       "      <td>       Ida</td>\n",
       "      <td> F</td>\n",
       "      <td> 1472</td>\n",
       "      <td> 1880</td>\n",
       "      <td> 0.016177</td>\n",
       "    </tr>\n",
       "    <tr>\n",
       "      <th>7</th>\n",
       "      <td>     Alice</td>\n",
       "      <td> F</td>\n",
       "      <td> 1414</td>\n",
       "      <td> 1880</td>\n",
       "      <td> 0.015540</td>\n",
       "    </tr>\n",
       "    <tr>\n",
       "      <th>8</th>\n",
       "      <td>    Bertha</td>\n",
       "      <td> F</td>\n",
       "      <td> 1320</td>\n",
       "      <td> 1880</td>\n",
       "      <td> 0.014507</td>\n",
       "    </tr>\n",
       "    <tr>\n",
       "      <th>9</th>\n",
       "      <td>     Sarah</td>\n",
       "      <td> F</td>\n",
       "      <td> 1288</td>\n",
       "      <td> 1880</td>\n",
       "      <td> 0.014155</td>\n",
       "    </tr>\n",
       "  </tbody>\n",
       "</table>\n",
       "</div>"
      ],
      "text/plain": [
       "                 name sex  births  year      prop\n",
       "year sex                                         \n",
       "1880 F   0       Mary   F    7065  1880  0.077644\n",
       "         1       Anna   F    2604  1880  0.028618\n",
       "         2       Emma   F    2003  1880  0.022013\n",
       "         3  Elizabeth   F    1939  1880  0.021310\n",
       "         4     Minnie   F    1746  1880  0.019189\n",
       "         5   Margaret   F    1578  1880  0.017342\n",
       "         6        Ida   F    1472  1880  0.016177\n",
       "         7      Alice   F    1414  1880  0.015540\n",
       "         8     Bertha   F    1320  1880  0.014507\n",
       "         9      Sarah   F    1288  1880  0.014155"
      ]
     },
     "execution_count": 87,
     "metadata": {},
     "output_type": "execute_result"
    }
   ],
   "source": [
    "top1000[:10]"
   ]
  },
  {
   "cell_type": "markdown",
   "metadata": {},
   "source": [
    "### Analyzing Naming Trends"
   ]
  },
  {
   "cell_type": "code",
   "execution_count": 91,
   "metadata": {
    "collapsed": false
   },
   "outputs": [
    {
     "data": {
      "text/html": [
       "<pre>\n",
       "&lt;class 'pandas.core.frame.DataFrame'&gt;\n",
       "Int64Index: 136 entries, 1880 to 2015\n",
       "Columns: 7057 entries, Aaden to Zuri\n",
       "dtypes: float64(7057)\n",
       "</pre>"
      ],
      "text/plain": [
       "<class 'pandas.core.frame.DataFrame'>\n",
       "Int64Index: 136 entries, 1880 to 2015\n",
       "Columns: 7057 entries, Aaden to Zuri\n",
       "dtypes: float64(7057)"
      ]
     },
     "execution_count": 91,
     "metadata": {},
     "output_type": "execute_result"
    }
   ],
   "source": [
    "# Get the top 1000 boy and girl names\n",
    "boys = top1000[top1000.sex=='M']\n",
    "girls = top1000[top1000.sex=='F']\n",
    "# pivot table of total number of births by year and name\n",
    "total_births = top1000.pivot_table('births',rows='year',cols='name',aggfunc=sum)\n",
    "total_births"
   ]
  },
  {
   "cell_type": "code",
   "execution_count": 93,
   "metadata": {
    "collapsed": false
   },
   "outputs": [
    {
     "data": {
      "text/html": [
       "<div style=\"max-height:1000px;max-width:1500px;overflow:auto;\">\n",
       "<table border=\"1\" class=\"dataframe\">\n",
       "  <thead>\n",
       "    <tr style=\"text-align: right;\">\n",
       "      <th>name</th>\n",
       "      <th>John</th>\n",
       "      <th>Harry</th>\n",
       "      <th>Mary</th>\n",
       "      <th>Marilyn</th>\n",
       "    </tr>\n",
       "    <tr>\n",
       "      <th>year</th>\n",
       "      <th></th>\n",
       "      <th></th>\n",
       "      <th></th>\n",
       "      <th></th>\n",
       "    </tr>\n",
       "  </thead>\n",
       "  <tbody>\n",
       "    <tr>\n",
       "      <th>1880</th>\n",
       "      <td> 9701</td>\n",
       "      <td> 2158</td>\n",
       "      <td>  7092</td>\n",
       "      <td>NaN</td>\n",
       "    </tr>\n",
       "    <tr>\n",
       "      <th>1881</th>\n",
       "      <td> 8795</td>\n",
       "      <td> 2002</td>\n",
       "      <td>  6948</td>\n",
       "      <td>NaN</td>\n",
       "    </tr>\n",
       "    <tr>\n",
       "      <th>1882</th>\n",
       "      <td> 9597</td>\n",
       "      <td> 2246</td>\n",
       "      <td>  8178</td>\n",
       "      <td>NaN</td>\n",
       "    </tr>\n",
       "    <tr>\n",
       "      <th>1883</th>\n",
       "      <td> 8934</td>\n",
       "      <td> 2116</td>\n",
       "      <td>  8044</td>\n",
       "      <td>NaN</td>\n",
       "    </tr>\n",
       "    <tr>\n",
       "      <th>1884</th>\n",
       "      <td> 9428</td>\n",
       "      <td> 2338</td>\n",
       "      <td>  9253</td>\n",
       "      <td>NaN</td>\n",
       "    </tr>\n",
       "    <tr>\n",
       "      <th>1885</th>\n",
       "      <td> 8801</td>\n",
       "      <td> 2209</td>\n",
       "      <td>  9166</td>\n",
       "      <td>NaN</td>\n",
       "    </tr>\n",
       "    <tr>\n",
       "      <th>1886</th>\n",
       "      <td> 9074</td>\n",
       "      <td> 2272</td>\n",
       "      <td>  9921</td>\n",
       "      <td>NaN</td>\n",
       "    </tr>\n",
       "    <tr>\n",
       "      <th>1887</th>\n",
       "      <td> 8166</td>\n",
       "      <td> 2070</td>\n",
       "      <td>  9935</td>\n",
       "      <td>NaN</td>\n",
       "    </tr>\n",
       "    <tr>\n",
       "      <th>1888</th>\n",
       "      <td> 9299</td>\n",
       "      <td> 2772</td>\n",
       "      <td> 11804</td>\n",
       "      <td>NaN</td>\n",
       "    </tr>\n",
       "    <tr>\n",
       "      <th>1889</th>\n",
       "      <td> 8600</td>\n",
       "      <td> 2559</td>\n",
       "      <td> 11689</td>\n",
       "      <td>NaN</td>\n",
       "    </tr>\n",
       "  </tbody>\n",
       "</table>\n",
       "</div>"
      ],
      "text/plain": [
       "name  John  Harry   Mary  Marilyn\n",
       "year                             \n",
       "1880  9701   2158   7092      NaN\n",
       "1881  8795   2002   6948      NaN\n",
       "1882  9597   2246   8178      NaN\n",
       "1883  8934   2116   8044      NaN\n",
       "1884  9428   2338   9253      NaN\n",
       "1885  8801   2209   9166      NaN\n",
       "1886  9074   2272   9921      NaN\n",
       "1887  8166   2070   9935      NaN\n",
       "1888  9299   2772  11804      NaN\n",
       "1889  8600   2559  11689      NaN"
      ]
     },
     "execution_count": 93,
     "metadata": {},
     "output_type": "execute_result"
    }
   ],
   "source": [
    "# Plot the time series for a few names\n",
    "subset = total_births[['John','Harry','Mary','Marilyn']]\n",
    "subset[:10]"
   ]
  },
  {
   "cell_type": "code",
   "execution_count": 94,
   "metadata": {
    "collapsed": false
   },
   "outputs": [
    {
     "data": {
      "text/plain": [
       "array([<matplotlib.axes._subplots.AxesSubplot object at 0x108992650>,\n",
       "       <matplotlib.axes._subplots.AxesSubplot object at 0x10f7b1f50>,\n",
       "       <matplotlib.axes._subplots.AxesSubplot object at 0x110129e50>,\n",
       "       <matplotlib.axes._subplots.AxesSubplot object at 0x1119defd0>], dtype=object)"
      ]
     },
     "execution_count": 94,
     "metadata": {},
     "output_type": "execute_result"
    },
    {
     "data": {
      "image/png": "[encoded data removed]",
      "text/plain": [
       "<matplotlib.figure.Figure at 0x108977690>"
      ]
     },
     "metadata": {},
     "output_type": "display_data"
    }
   ],
   "source": [
    "subset.plot(subplots=True,figsize=(12,10),grid=False,title=\"Number of births by year\")"
   ]
  },
  {
   "cell_type": "markdown",
   "metadata": {},
   "source": [
    "#### Measuring increase in name diversity"
   ]
  },
  {
   "cell_type": "code",
   "execution_count": 95,
   "metadata": {
    "collapsed": false
   },
   "outputs": [
    {
     "data": {
      "text/plain": [
       "<matplotlib.axes._subplots.AxesSubplot at 0x105cd3350>"
      ]
     },
     "execution_count": 95,
     "metadata": {},
     "output_type": "execute_result"
    },
    {
     "data": {
      "image/png": "[encoded data removed]",
      "text/plain": [
       "<matplotlib.figure.Figure at 0x11296c250>"
      ]
     },
     "metadata": {},
     "output_type": "display_data"
    }
   ],
   "source": [
    "# One hypothesis for the decrease in popularity over time is that few parents are choosing popular names. \n",
    "# We now check the increase in diversity\n",
    "table = top1000.pivot_table('prop',rows='year',cols='sex',aggfunc=sum)\n",
    "table.plot(title='Sum of top1000.prop by year and sex',yticks=np.linspace(0,1.2,13),xticks=range(1880,2020,10))"
   ]
  },
  {
   "cell_type": "code",
   "execution_count": 96,
   "metadata": {
    "collapsed": false
   },
   "outputs": [
    {
     "data": {
      "text/html": [
       "<pre>\n",
       "&lt;class 'pandas.core.frame.DataFrame'&gt;\n",
       "MultiIndex: 1000 entries, (2015, M, 1844730) to (2015, M, 1845729)\n",
       "Data columns (total 5 columns):\n",
       "name      1000  non-null values\n",
       "sex       1000  non-null values\n",
       "births    1000  non-null values\n",
       "year      1000  non-null values\n",
       "prop      1000  non-null values\n",
       "dtypes: float64(1), int64(2), object(2)\n",
       "</pre>"
      ],
      "text/plain": [
       "<class 'pandas.core.frame.DataFrame'>\n",
       "MultiIndex: 1000 entries, (2015, M, 1844730) to (2015, M, 1845729)\n",
       "Data columns (total 5 columns):\n",
       "name      1000  non-null values\n",
       "sex       1000  non-null values\n",
       "births    1000  non-null values\n",
       "year      1000  non-null values\n",
       "prop      1000  non-null values\n",
       "dtypes: float64(1), int64(2), object(2)"
      ]
     },
     "execution_count": 96,
     "metadata": {},
     "output_type": "execute_result"
    }
   ],
   "source": [
    "# The plot above demonstrates increasing name diversity \n",
    "# (i.e. the top 1000 names constitute a smaller proportion of the total)\n",
    "# Next consider the number of distinct names in the top 50% of births. We begin with boy names from 2015\n",
    "df = boys[boys.year==2015]\n",
    "df"
   ]
  },
  {
   "cell_type": "code",
   "execution_count": 97,
   "metadata": {
    "collapsed": false
   },
   "outputs": [
    {
     "data": {
      "text/plain": [
       "year  sex         \n",
       "2015  M    1844730    0.010275\n",
       "           1844731    0.019902\n",
       "           1844732    0.028610\n",
       "           1844733    0.036940\n",
       "           1844734    0.045265\n",
       "           1844735    0.053160\n",
       "           1844736    0.060904\n",
       "           1844737    0.068519\n",
       "           1844738    0.076061\n",
       "           1844739    0.083227\n",
       "dtype: float64"
      ]
     },
     "execution_count": 97,
     "metadata": {},
     "output_type": "execute_result"
    }
   ],
   "source": [
    "prop_cumsum= df.sort_index(by='prop',ascending=False).prop.cumsum()\n",
    "prop_cumsum[:10]"
   ]
  },
  {
   "cell_type": "code",
   "execution_count": 100,
   "metadata": {
    "collapsed": false
   },
   "outputs": [
    {
     "data": {
      "text/plain": [
       "135"
      ]
     },
     "execution_count": 100,
     "metadata": {},
     "output_type": "execute_result"
    }
   ],
   "source": [
    "prop_cumsum.searchsorted(0.5) +1 # since the arrays are 0 indexed"
   ]
  },
  {
   "cell_type": "code",
   "execution_count": 101,
   "metadata": {
    "collapsed": false
   },
   "outputs": [
    {
     "data": {
      "text/plain": [
       "25"
      ]
     },
     "execution_count": 101,
     "metadata": {},
     "output_type": "execute_result"
    }
   ],
   "source": [
    "# So in 2015, the top 50% of births had 135 unique names. We compare this with 1900\n",
    "df = boys[boys.year==1900]\n",
    "in1900 = df.sort_index(by='prop',ascending=False).prop.cumsum()\n",
    "in1900.searchsorted(0.5) + 1"
   ]
  },
  {
   "cell_type": "code",
   "execution_count": 102,
   "metadata": {
    "collapsed": false
   },
   "outputs": [
    {
     "data": {
      "text/html": [
       "<div style=\"max-height:1000px;max-width:1500px;overflow:auto;\">\n",
       "<table border=\"1\" class=\"dataframe\">\n",
       "  <thead>\n",
       "    <tr style=\"text-align: right;\">\n",
       "      <th>sex</th>\n",
       "      <th>F</th>\n",
       "      <th>M</th>\n",
       "    </tr>\n",
       "    <tr>\n",
       "      <th>year</th>\n",
       "      <th></th>\n",
       "      <th></th>\n",
       "    </tr>\n",
       "  </thead>\n",
       "  <tbody>\n",
       "    <tr>\n",
       "      <th>1880</th>\n",
       "      <td> 38</td>\n",
       "      <td> 14</td>\n",
       "    </tr>\n",
       "    <tr>\n",
       "      <th>1881</th>\n",
       "      <td> 38</td>\n",
       "      <td> 14</td>\n",
       "    </tr>\n",
       "    <tr>\n",
       "      <th>1882</th>\n",
       "      <td> 38</td>\n",
       "      <td> 15</td>\n",
       "    </tr>\n",
       "    <tr>\n",
       "      <th>1883</th>\n",
       "      <td> 39</td>\n",
       "      <td> 15</td>\n",
       "    </tr>\n",
       "    <tr>\n",
       "      <th>1884</th>\n",
       "      <td> 39</td>\n",
       "      <td> 16</td>\n",
       "    </tr>\n",
       "  </tbody>\n",
       "</table>\n",
       "</div>"
      ],
      "text/plain": [
       "sex    F   M\n",
       "year        \n",
       "1880  38  14\n",
       "1881  38  14\n",
       "1882  38  15\n",
       "1883  39  15\n",
       "1884  39  16"
      ]
     },
     "execution_count": 102,
     "metadata": {},
     "output_type": "execute_result"
    }
   ],
   "source": [
    "# In 1900, there were only 25 unique names in the top 50% of births\n",
    "# We define the above as a function, and apply it to each year and sex\n",
    "def get_quantile_count(group,q=0.5):\n",
    "    group = group.sort_index(by='prop',ascending=False)\n",
    "    return group.prop.cumsum().searchsorted(0.5) + 1\n",
    "\n",
    "diversity = top1000.groupby(['year','sex']).apply(get_quantile_count)\n",
    "diversity = diversity.unstack('sex')\n",
    "diversity.head()"
   ]
  },
  {
   "cell_type": "code",
   "execution_count": 103,
   "metadata": {
    "collapsed": false
   },
   "outputs": [
    {
     "data": {
      "text/plain": [
       "<matplotlib.axes._subplots.AxesSubplot at 0x108977810>"
      ]
     },
     "execution_count": 103,
     "metadata": {},
     "output_type": "execute_result"
    },
    {
     "data": {
      "image/png": "[encoded data removed]",
      "text/plain": [
       "<matplotlib.figure.Figure at 0x106448e50>"
      ]
     },
     "metadata": {},
     "output_type": "display_data"
    }
   ],
   "source": [
    "# Girl names have always been more diverse than boy names\n",
    "diversity.plot(title='Number of popular names in the top 50%')"
   ]
  },
  {
   "cell_type": "markdown",
   "metadata": {},
   "source": [
    "#### The 'last letter' revolution"
   ]
  },
  {
   "cell_type": "code",
   "execution_count": 105,
   "metadata": {
    "collapsed": false
   },
   "outputs": [
    {
     "data": {
      "text/html": [
       "<div style=\"max-height:1000px;max-width:1500px;overflow:auto;\">\n",
       "<table border=\"1\" class=\"dataframe\">\n",
       "  <thead>\n",
       "    <tr style=\"text-align: right;\">\n",
       "      <th></th>\n",
       "      <th>name</th>\n",
       "      <th>sex</th>\n",
       "      <th>births</th>\n",
       "      <th>year</th>\n",
       "      <th>prop</th>\n",
       "    </tr>\n",
       "  </thead>\n",
       "  <tbody>\n",
       "    <tr>\n",
       "      <th>0</th>\n",
       "      <td>      Mary</td>\n",
       "      <td> F</td>\n",
       "      <td> 7065</td>\n",
       "      <td> 1880</td>\n",
       "      <td> 0.077644</td>\n",
       "    </tr>\n",
       "    <tr>\n",
       "      <th>1</th>\n",
       "      <td>      Anna</td>\n",
       "      <td> F</td>\n",
       "      <td> 2604</td>\n",
       "      <td> 1880</td>\n",
       "      <td> 0.028618</td>\n",
       "    </tr>\n",
       "    <tr>\n",
       "      <th>2</th>\n",
       "      <td>      Emma</td>\n",
       "      <td> F</td>\n",
       "      <td> 2003</td>\n",
       "      <td> 1880</td>\n",
       "      <td> 0.022013</td>\n",
       "    </tr>\n",
       "    <tr>\n",
       "      <th>3</th>\n",
       "      <td> Elizabeth</td>\n",
       "      <td> F</td>\n",
       "      <td> 1939</td>\n",
       "      <td> 1880</td>\n",
       "      <td> 0.021310</td>\n",
       "    </tr>\n",
       "    <tr>\n",
       "      <th>4</th>\n",
       "      <td>    Minnie</td>\n",
       "      <td> F</td>\n",
       "      <td> 1746</td>\n",
       "      <td> 1880</td>\n",
       "      <td> 0.019189</td>\n",
       "    </tr>\n",
       "    <tr>\n",
       "      <th>5</th>\n",
       "      <td>  Margaret</td>\n",
       "      <td> F</td>\n",
       "      <td> 1578</td>\n",
       "      <td> 1880</td>\n",
       "      <td> 0.017342</td>\n",
       "    </tr>\n",
       "    <tr>\n",
       "      <th>6</th>\n",
       "      <td>       Ida</td>\n",
       "      <td> F</td>\n",
       "      <td> 1472</td>\n",
       "      <td> 1880</td>\n",
       "      <td> 0.016177</td>\n",
       "    </tr>\n",
       "    <tr>\n",
       "      <th>7</th>\n",
       "      <td>     Alice</td>\n",
       "      <td> F</td>\n",
       "      <td> 1414</td>\n",
       "      <td> 1880</td>\n",
       "      <td> 0.015540</td>\n",
       "    </tr>\n",
       "    <tr>\n",
       "      <th>8</th>\n",
       "      <td>    Bertha</td>\n",
       "      <td> F</td>\n",
       "      <td> 1320</td>\n",
       "      <td> 1880</td>\n",
       "      <td> 0.014507</td>\n",
       "    </tr>\n",
       "    <tr>\n",
       "      <th>9</th>\n",
       "      <td>     Sarah</td>\n",
       "      <td> F</td>\n",
       "      <td> 1288</td>\n",
       "      <td> 1880</td>\n",
       "      <td> 0.014155</td>\n",
       "    </tr>\n",
       "  </tbody>\n",
       "</table>\n",
       "</div>"
      ],
      "text/plain": [
       "        name sex  births  year      prop\n",
       "0       Mary   F    7065  1880  0.077644\n",
       "1       Anna   F    2604  1880  0.028618\n",
       "2       Emma   F    2003  1880  0.022013\n",
       "3  Elizabeth   F    1939  1880  0.021310\n",
       "4     Minnie   F    1746  1880  0.019189\n",
       "5   Margaret   F    1578  1880  0.017342\n",
       "6        Ida   F    1472  1880  0.016177\n",
       "7      Alice   F    1414  1880  0.015540\n",
       "8     Bertha   F    1320  1880  0.014507\n",
       "9      Sarah   F    1288  1880  0.014155"
      ]
     },
     "execution_count": 105,
     "metadata": {},
     "output_type": "execute_result"
    }
   ],
   "source": [
    "# extract last letter from the name column\n",
    "get_last_letter = lambda x: x[-1]\n",
    "last_letters = names.name.map(get_last_letter)\n",
    "last_letters.name = 'last_letter'\n",
    "names[:10]"
   ]
  },
  {
   "cell_type": "code",
   "execution_count": 107,
   "metadata": {
    "collapsed": false
   },
   "outputs": [
    {
     "data": {
      "text/plain": [
       "0    y\n",
       "1    a\n",
       "2    a\n",
       "3    h\n",
       "4    e\n",
       "5    t\n",
       "6    a\n",
       "7    e\n",
       "8    a\n",
       "9    h\n",
       "Name: last_letter, dtype: object"
      ]
     },
     "execution_count": 107,
     "metadata": {},
     "output_type": "execute_result"
    }
   ],
   "source": [
    "last_letters[:10]"
   ]
  },
  {
   "cell_type": "code",
   "execution_count": 114,
   "metadata": {
    "collapsed": false
   },
   "outputs": [
    {
     "data": {
      "text/html": [
       "<div style=\"max-height:1000px;max-width:1500px;overflow:auto;\">\n",
       "<table border=\"1\" class=\"dataframe\">\n",
       "  <thead>\n",
       "    <tr>\n",
       "      <th>sex</th>\n",
       "      <th>F</th>\n",
       "    </tr>\n",
       "    <tr>\n",
       "      <th>year</th>\n",
       "      <th>1881</th>\n",
       "    </tr>\n",
       "    <tr>\n",
       "      <th>last_letter</th>\n",
       "      <th></th>\n",
       "    </tr>\n",
       "  </thead>\n",
       "  <tbody>\n",
       "    <tr>\n",
       "      <th>a</th>\n",
       "      <td> 31581</td>\n",
       "    </tr>\n",
       "    <tr>\n",
       "      <th>b</th>\n",
       "      <td>   NaN</td>\n",
       "    </tr>\n",
       "    <tr>\n",
       "      <th>c</th>\n",
       "      <td>   NaN</td>\n",
       "    </tr>\n",
       "    <tr>\n",
       "      <th>d</th>\n",
       "      <td>   607</td>\n",
       "    </tr>\n",
       "    <tr>\n",
       "      <th>e</th>\n",
       "      <td> 34080</td>\n",
       "    </tr>\n",
       "    <tr>\n",
       "      <th>f</th>\n",
       "      <td>   NaN</td>\n",
       "    </tr>\n",
       "    <tr>\n",
       "      <th>g</th>\n",
       "      <td>     5</td>\n",
       "    </tr>\n",
       "    <tr>\n",
       "      <th>h</th>\n",
       "      <td>  4783</td>\n",
       "    </tr>\n",
       "    <tr>\n",
       "      <th>i</th>\n",
       "      <td>    78</td>\n",
       "    </tr>\n",
       "    <tr>\n",
       "      <th>j</th>\n",
       "      <td>   NaN</td>\n",
       "    </tr>\n",
       "    <tr>\n",
       "      <th>k</th>\n",
       "      <td>    15</td>\n",
       "    </tr>\n",
       "    <tr>\n",
       "      <th>l</th>\n",
       "      <td>  2910</td>\n",
       "    </tr>\n",
       "    <tr>\n",
       "      <th>m</th>\n",
       "      <td>    57</td>\n",
       "    </tr>\n",
       "    <tr>\n",
       "      <th>n</th>\n",
       "      <td>  2959</td>\n",
       "    </tr>\n",
       "    <tr>\n",
       "      <th>o</th>\n",
       "      <td>    49</td>\n",
       "    </tr>\n",
       "    <tr>\n",
       "      <th>p</th>\n",
       "      <td>   NaN</td>\n",
       "    </tr>\n",
       "    <tr>\n",
       "      <th>q</th>\n",
       "      <td>   NaN</td>\n",
       "    </tr>\n",
       "    <tr>\n",
       "      <th>r</th>\n",
       "      <td>   417</td>\n",
       "    </tr>\n",
       "    <tr>\n",
       "      <th>s</th>\n",
       "      <td>  1316</td>\n",
       "    </tr>\n",
       "    <tr>\n",
       "      <th>t</th>\n",
       "      <td>  2165</td>\n",
       "    </tr>\n",
       "    <tr>\n",
       "      <th>u</th>\n",
       "      <td>   427</td>\n",
       "    </tr>\n",
       "    <tr>\n",
       "      <th>v</th>\n",
       "      <td>   NaN</td>\n",
       "    </tr>\n",
       "    <tr>\n",
       "      <th>w</th>\n",
       "      <td>     5</td>\n",
       "    </tr>\n",
       "    <tr>\n",
       "      <th>x</th>\n",
       "      <td>   NaN</td>\n",
       "    </tr>\n",
       "    <tr>\n",
       "      <th>y</th>\n",
       "      <td> 10404</td>\n",
       "    </tr>\n",
       "    <tr>\n",
       "      <th>z</th>\n",
       "      <td>    95</td>\n",
       "    </tr>\n",
       "  </tbody>\n",
       "</table>\n",
       "</div>"
      ],
      "text/plain": [
       "sex              F\n",
       "year          1881\n",
       "last_letter       \n",
       "a            31581\n",
       "b              NaN\n",
       "c              NaN\n",
       "d              607\n",
       "e            34080\n",
       "f              NaN\n",
       "g                5\n",
       "h             4783\n",
       "i               78\n",
       "j              NaN\n",
       "k               15\n",
       "l             2910\n",
       "m               57\n",
       "n             2959\n",
       "o               49\n",
       "p              NaN\n",
       "q              NaN\n",
       "r              417\n",
       "s             1316\n",
       "t             2165\n",
       "u              427\n",
       "v              NaN\n",
       "w                5\n",
       "x              NaN\n",
       "y            10404\n",
       "z               95"
      ]
     },
     "execution_count": 114,
     "metadata": {},
     "output_type": "execute_result"
    }
   ],
   "source": [
    "table = names.pivot_table('births',rows=last_letters,cols=['sex','year'],aggfunc=sum)\n",
    "table[[1]]"
   ]
  },
  {
   "cell_type": "code",
   "execution_count": 115,
   "metadata": {
    "collapsed": false
   },
   "outputs": [
    {
     "data": {
      "text/html": [
       "<div style=\"max-height:1000px;max-width:1500px;overflow:auto;\">\n",
       "<table border=\"1\" class=\"dataframe\">\n",
       "  <thead>\n",
       "    <tr>\n",
       "      <th>sex</th>\n",
       "      <th colspan=\"3\" halign=\"left\">F</th>\n",
       "      <th colspan=\"3\" halign=\"left\">M</th>\n",
       "    </tr>\n",
       "    <tr>\n",
       "      <th>year</th>\n",
       "      <th>1915</th>\n",
       "      <th>1965</th>\n",
       "      <th>2015</th>\n",
       "      <th>1915</th>\n",
       "      <th>1965</th>\n",
       "      <th>2015</th>\n",
       "    </tr>\n",
       "    <tr>\n",
       "      <th>last_letter</th>\n",
       "      <th></th>\n",
       "      <th></th>\n",
       "      <th></th>\n",
       "      <th></th>\n",
       "      <th></th>\n",
       "      <th></th>\n",
       "    </tr>\n",
       "  </thead>\n",
       "  <tbody>\n",
       "    <tr>\n",
       "      <th>a</th>\n",
       "      <td> 257374</td>\n",
       "      <td> 640022</td>\n",
       "      <td> 656283</td>\n",
       "      <td>   3271</td>\n",
       "      <td>   4753</td>\n",
       "      <td>  28729</td>\n",
       "    </tr>\n",
       "    <tr>\n",
       "      <th>b</th>\n",
       "      <td>    NaN</td>\n",
       "      <td>    185</td>\n",
       "      <td>    595</td>\n",
       "      <td>   1578</td>\n",
       "      <td>   2208</td>\n",
       "      <td>  29356</td>\n",
       "    </tr>\n",
       "    <tr>\n",
       "      <th>c</th>\n",
       "      <td>      8</td>\n",
       "      <td>    108</td>\n",
       "      <td>   1246</td>\n",
       "      <td>   1946</td>\n",
       "      <td>  22648</td>\n",
       "      <td>  22956</td>\n",
       "    </tr>\n",
       "    <tr>\n",
       "      <th>d</th>\n",
       "      <td>  18445</td>\n",
       "      <td>   3351</td>\n",
       "      <td>   3206</td>\n",
       "      <td> 112883</td>\n",
       "      <td> 219145</td>\n",
       "      <td>  43501</td>\n",
       "    </tr>\n",
       "    <tr>\n",
       "      <th>e</th>\n",
       "      <td> 307664</td>\n",
       "      <td> 372191</td>\n",
       "      <td> 324850</td>\n",
       "      <td> 102858</td>\n",
       "      <td> 133403</td>\n",
       "      <td> 127686</td>\n",
       "    </tr>\n",
       "  </tbody>\n",
       "</table>\n",
       "</div>"
      ],
      "text/plain": [
       "sex               F                       M                \n",
       "year           1915    1965    2015    1915    1965    2015\n",
       "last_letter                                                \n",
       "a            257374  640022  656283    3271    4753   28729\n",
       "b               NaN     185     595    1578    2208   29356\n",
       "c                 8     108    1246    1946   22648   22956\n",
       "d             18445    3351    3206  112883  219145   43501\n",
       "e            307664  372191  324850  102858  133403  127686"
      ]
     },
     "execution_count": 115,
     "metadata": {},
     "output_type": "execute_result"
    }
   ],
   "source": [
    "# next we pick 3 representative years\n",
    "subtable = table.reindex(columns=[1915,1965,2015],level='year')\n",
    "subtable.head()"
   ]
  },
  {
   "cell_type": "code",
   "execution_count": 116,
   "metadata": {
    "collapsed": false
   },
   "outputs": [
    {
     "data": {
      "text/plain": [
       "sex  year\n",
       "F    1915     983876\n",
       "     1965    1765063\n",
       "     2015    1769325\n",
       "M    1915     848603\n",
       "     1965    1861377\n",
       "     2015    1898858\n",
       "dtype: float64"
      ]
     },
     "execution_count": 116,
     "metadata": {},
     "output_type": "execute_result"
    }
   ],
   "source": [
    "# normalize the above table by total births\n",
    "subtable.sum()"
   ]
  },
  {
   "cell_type": "code",
   "execution_count": 119,
   "metadata": {
    "collapsed": false
   },
   "outputs": [
    {
     "data": {
      "text/plain": [
       "<matplotlib.axes._subplots.AxesSubplot at 0x11de8b390>"
      ]
     },
     "execution_count": 119,
     "metadata": {},
     "output_type": "execute_result"
    },
    {
     "data": {
      "image/png": "[encoded data removed]",
      "text/plain": [
       "<matplotlib.figure.Figure at 0x115c78810>"
      ]
     },
     "metadata": {},
     "output_type": "display_data"
    }
   ],
   "source": [
    "letter_prop = subtable/subtable.sum()\n",
    "import matplotlib.pyplot as plt\n",
    "fig,axes = plt.subplots(2,1,figsize=(10,8))\n",
    "letter_prop['M'].plot(kind='bar',rot=0,ax=axes[0],title='Male')\n",
    "letter_prop['F'].plot(kind='bar',rot=0,ax=axes[1],title='Female',legend=False)\n",
    "# we observe names ending in n to have grown in popularity in male names"
   ]
  },
  {
   "cell_type": "code",
   "execution_count": 120,
   "metadata": {
    "collapsed": false
   },
   "outputs": [
    {
     "data": {
      "text/html": [
       "<div style=\"max-height:1000px;max-width:1500px;overflow:auto;\">\n",
       "<table border=\"1\" class=\"dataframe\">\n",
       "  <thead>\n",
       "    <tr style=\"text-align: right;\">\n",
       "      <th></th>\n",
       "      <th>d</th>\n",
       "      <th>n</th>\n",
       "      <th>y</th>\n",
       "    </tr>\n",
       "    <tr>\n",
       "      <th>year</th>\n",
       "      <th></th>\n",
       "      <th></th>\n",
       "      <th></th>\n",
       "    </tr>\n",
       "  </thead>\n",
       "  <tbody>\n",
       "    <tr>\n",
       "      <th>1880</th>\n",
       "      <td> 0.083057</td>\n",
       "      <td> 0.153217</td>\n",
       "      <td> 0.075763</td>\n",
       "    </tr>\n",
       "    <tr>\n",
       "      <th>1881</th>\n",
       "      <td> 0.083242</td>\n",
       "      <td> 0.153212</td>\n",
       "      <td> 0.077455</td>\n",
       "    </tr>\n",
       "    <tr>\n",
       "      <th>1882</th>\n",
       "      <td> 0.085332</td>\n",
       "      <td> 0.149561</td>\n",
       "      <td> 0.077538</td>\n",
       "    </tr>\n",
       "    <tr>\n",
       "      <th>1883</th>\n",
       "      <td> 0.084051</td>\n",
       "      <td> 0.151653</td>\n",
       "      <td> 0.079148</td>\n",
       "    </tr>\n",
       "    <tr>\n",
       "      <th>1884</th>\n",
       "      <td> 0.086121</td>\n",
       "      <td> 0.149926</td>\n",
       "      <td> 0.080407</td>\n",
       "    </tr>\n",
       "  </tbody>\n",
       "</table>\n",
       "</div>"
      ],
      "text/plain": [
       "             d         n         y\n",
       "year                              \n",
       "1880  0.083057  0.153217  0.075763\n",
       "1881  0.083242  0.153212  0.077455\n",
       "1882  0.085332  0.149561  0.077538\n",
       "1883  0.084051  0.151653  0.079148\n",
       "1884  0.086121  0.149926  0.080407"
      ]
     },
     "execution_count": 120,
     "metadata": {},
     "output_type": "execute_result"
    }
   ],
   "source": [
    "# We now try to generate a time series for a subset of letter endings for boy names\n",
    "letter_prop = table/table.sum().astype(float)\n",
    "dny_ts = letter_prop.ix[['d','n','y'],'M'].T\n",
    "dny_ts.head()"
   ]
  },
  {
   "cell_type": "code",
   "execution_count": 121,
   "metadata": {
    "collapsed": false
   },
   "outputs": [
    {
     "data": {
      "text/plain": [
       "<matplotlib.axes._subplots.AxesSubplot at 0x1161a6910>"
      ]
     },
     "execution_count": 121,
     "metadata": {},
     "output_type": "execute_result"
    },
    {
     "data": {
      "image/png": "[encoded data removed]",
      "text/plain": [
       "<matplotlib.figure.Figure at 0x115c6d9d0>"
      ]
     },
     "metadata": {},
     "output_type": "display_data"
    }
   ],
   "source": [
    "dny_ts.plot()"
   ]
  },
  {
   "cell_type": "markdown",
   "metadata": {},
   "source": [
    "#### Boy names that became girl names (and vice versa)"
   ]
  },
  {
   "cell_type": "code",
   "execution_count": 122,
   "metadata": {
    "collapsed": false
   },
   "outputs": [
    {
     "data": {
      "text/plain": [
       "array(['Leslie', 'Lesley', 'Leslee', 'Lesli', 'Lesly'], dtype=object)"
      ]
     },
     "execution_count": 122,
     "metadata": {},
     "output_type": "execute_result"
    }
   ],
   "source": [
    "# we begin by tracking the name Leslie and its variations\n",
    "\n",
    "all_names = top1000.name.unique()\n",
    "mask = np.array(['lesl' in x.lower() for x in all_names])\n",
    "lesley_like = all_names[mask]\n",
    "lesley_like"
   ]
  },
  {
   "cell_type": "code",
   "execution_count": 124,
   "metadata": {
    "collapsed": false
   },
   "outputs": [
    {
     "data": {
      "text/plain": [
       "name\n",
       "Leslee       993\n",
       "Lesley     35032\n",
       "Lesli        929\n",
       "Leslie    376034\n",
       "Lesly      11431\n",
       "Name: births, dtype: int64"
      ]
     },
     "execution_count": 124,
     "metadata": {},
     "output_type": "execute_result"
    }
   ],
   "source": [
    "# We filter down to the above combinations\n",
    "filtered = top1000[top1000.name.isin(lesley_like)]\n",
    "filtered.groupby('name').births.sum()"
   ]
  },
  {
   "cell_type": "code",
   "execution_count": 126,
   "metadata": {
    "collapsed": false
   },
   "outputs": [
    {
     "data": {
      "text/html": [
       "<div style=\"max-height:1000px;max-width:1500px;overflow:auto;\">\n",
       "<table border=\"1\" class=\"dataframe\">\n",
       "  <thead>\n",
       "    <tr style=\"text-align: right;\">\n",
       "      <th>sex</th>\n",
       "      <th>F</th>\n",
       "      <th>M</th>\n",
       "    </tr>\n",
       "    <tr>\n",
       "      <th>year</th>\n",
       "      <th></th>\n",
       "      <th></th>\n",
       "    </tr>\n",
       "  </thead>\n",
       "  <tbody>\n",
       "    <tr>\n",
       "      <th>2011</th>\n",
       "      <td> 1</td>\n",
       "      <td>NaN</td>\n",
       "    </tr>\n",
       "    <tr>\n",
       "      <th>2012</th>\n",
       "      <td> 1</td>\n",
       "      <td>NaN</td>\n",
       "    </tr>\n",
       "    <tr>\n",
       "      <th>2013</th>\n",
       "      <td> 1</td>\n",
       "      <td>NaN</td>\n",
       "    </tr>\n",
       "    <tr>\n",
       "      <th>2014</th>\n",
       "      <td> 1</td>\n",
       "      <td>NaN</td>\n",
       "    </tr>\n",
       "    <tr>\n",
       "      <th>2015</th>\n",
       "      <td> 1</td>\n",
       "      <td>NaN</td>\n",
       "    </tr>\n",
       "  </tbody>\n",
       "</table>\n",
       "</div>"
      ],
      "text/plain": [
       "sex   F   M\n",
       "year       \n",
       "2011  1 NaN\n",
       "2012  1 NaN\n",
       "2013  1 NaN\n",
       "2014  1 NaN\n",
       "2015  1 NaN"
      ]
     },
     "execution_count": 126,
     "metadata": {},
     "output_type": "execute_result"
    }
   ],
   "source": [
    "# aggregate by sex and year, and normalize within year\n",
    "table = filtered.pivot_table('births',rows='year',cols='sex',aggfunc=sum)\n",
    "table = table.div(table.sum(1),axis=0)\n",
    "table.tail()"
   ]
  },
  {
   "cell_type": "code",
   "execution_count": 127,
   "metadata": {
    "collapsed": false
   },
   "outputs": [
    {
     "data": {
      "text/plain": [
       "<matplotlib.axes._subplots.AxesSubplot at 0x1161a60d0>"
      ]
     },
     "execution_count": 127,
     "metadata": {},
     "output_type": "execute_result"
    },
    {
     "data": {
      "image/png": "[encoded data removed]",
      "text/plain": [
       "<matplotlib.figure.Figure at 0x11ec87210>"
      ]
     },
     "metadata": {},
     "output_type": "display_data"
    }
   ],
   "source": [
    "# plot the time series\n",
    "table.plot(style={'M':'k-','F':'k--'})"
   ]
  },
  {
   "cell_type": "code",
   "execution_count": null,
   "metadata": {
    "collapsed": true
   },
   "outputs": [],
   "source": []
  }
 ],
 "metadata": {
  "kernelspec": {
   "display_name": "Python 2",
   "language": "python",
   "name": "python2"
  },
  "language_info": {
   "codemirror_mode": {
    "name": "ipython",
    "version": 2
   },
   "file_extension": ".py",
   "mimetype": "text/x-python",
   "name": "python",
   "nbconvert_exporter": "python",
   "pygments_lexer": "ipython2",
   "version": "2.7.11"
  }
 },
 "nbformat": 4,
 "nbformat_minor": 0
}
